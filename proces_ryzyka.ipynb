{
  "nbformat": 4,
  "nbformat_minor": 2,
  "metadata": {
    "colab": {
      "name": "sprawko2.ipynb",
      "provenance": [],
      "collapsed_sections": [
        "JT-7eVVeosQS",
        "yFMVZzVm1dGO",
        "SEVLIEhba9RW",
        "AELaX6Nmo8iV",
        "PEGZL8BI1g9D",
        "WLtnXatqu9aR",
        "-nfoBNZ21mWr",
        "fbQTHcOzvlDV",
        "H6I8X-r74YxR",
        "V8Da5pTt65pD",
        "dsIPFKsQOGqO",
        "doUL39il5V0a",
        "I2NFkLjv5otJ",
        "8iHSraR3N67y",
        "VMwhCav9No5z",
        "Y-pieKcCX1we",
        "PtO3v366ZK1t",
        "MQ1LmOcHEpLV",
        "hVQjPw17OLW5"
      ]
    },
    "kernelspec": {
      "name": "python3",
      "display_name": "Python 3"
    },
    "language_info": {
      "name": "python"
    }
  },
  "cells": [
    {
      "cell_type": "markdown",
      "source": [
        "# 4. Firma ubezpieczeniowa."
      ],
      "metadata": {
        "id": "afqgM6sSq3Ws"
      }
    },
    {
      "cell_type": "code",
      "execution_count": 115,
      "source": [
        "import numpy as np\r\n",
        "import matplotlib.pyplot as plt\r\n",
        "from matplotlib.animation import FuncAnimation\r\n",
        "from IPython import display"
      ],
      "outputs": [],
      "metadata": {
        "id": "hma7IsiErgVM"
      }
    },
    {
      "cell_type": "markdown",
      "source": [
        "Zaczynamy prowadzić naszą firmę z:\n",
        "\n",
        "*   początkowym kapitałem równym $k_0$,\n",
        "*   początkową liczbą sprzedanych polis OC równą $n$,\n",
        "*   początkową liczbą sprzedanych polis AC równą $m$.\n",
        "\n"
      ],
      "metadata": {
        "id": "w6hMLSbS0FDP"
      }
    },
    {
      "cell_type": "markdown",
      "source": [
        "## Funkcje, generatory i stałe potrzebne do wygenerownia procesu ryzyka."
      ],
      "metadata": {
        "id": "YkzfYbiBUEsR"
      }
    },
    {
      "cell_type": "markdown",
      "source": [
        "### Rezygnacje z OC."
      ],
      "metadata": {
        "id": "JT-7eVVeosQS"
      }
    },
    {
      "cell_type": "markdown",
      "source": [
        "#### Generator zmiennych losowych $N$ z rozkładu dyskretnego. <br>\n",
        "Wykorzystujemy do generowania pierwszego parametru w rozkładzie dwumianowym."
      ],
      "metadata": {
        "id": "yFMVZzVm1dGO"
      }
    },
    {
      "cell_type": "code",
      "execution_count": 1,
      "source": [
        "def N_distr_gen(n):\r\n",
        "    \"\"\"Generate random variable from discreet distribution.\r\n",
        "\r\n",
        "    Args:\r\n",
        "        n [int]: actual count of OC clients.\r\n",
        "\r\n",
        "    Returns:\r\n",
        "        [int]: random variable.\r\n",
        "    \"\"\"\r\n",
        "    u = np.random.uniform(0, 1)\r\n",
        "    if u <= 0.5:\r\n",
        "        return n\r\n",
        "    elif 0.5 < u <= 0.8:\r\n",
        "        return np.floor(0.9*n)\r\n",
        "    else:\r\n",
        "        return np.floor(n/2)"
      ],
      "outputs": [],
      "metadata": {
        "id": "wgQxNm0cqy2m"
      }
    },
    {
      "cell_type": "markdown",
      "source": [
        "#### Generowanie liczby kierowców rezygnujących z OC na początku miesiąca.\n",
        "Wartość popytu na polisy OC ($m_{OC}$) powinna być mniejsza lub równa wartości ceny polisy ($c_{OC}$), żeby drugi parametr rozkładu dwumianowego (parametr $p$ - prawdopodobieństwo) był mniejszy lub równy 1. W przeciwnym wypadku rozkład nie będzie działał (ponieważ prawdopodobieństwo nie może przekraczać 1).<br>\n",
        "Jeżeli jednak parametr $p$ przekroczy wartość 1, wtedy za $p$ podstawiamy 0.9\n",
        "(w celu uniknięcia błędów)."
      ],
      "metadata": {
        "id": "SEVLIEhba9RW"
      }
    },
    {
      "cell_type": "code",
      "execution_count": 2,
      "source": [
        "def count_quit_OC_gen(n, c_OC, m_OC):\n",
        "      \"\"\"Generate count of clients resign OC.\n",
        "\n",
        "      Args:\n",
        "          n [int]: actual count of OC clients,\n",
        "          c_OC [int, float]: OC policy price,\n",
        "          m_OC [int, float]: demand for OC policy.\n",
        "\n",
        "      Returns:\n",
        "          [int]: count of clients resign OC.\n",
        "      \"\"\"\n",
        "      if n == 0:\n",
        "        return 0\n",
        "      p = (c_OC/m_OC)**2.5\n",
        "      if p > 1:\n",
        "          p = 0.9\n",
        "      return np.random.binomial(N_distr_gen(n), p)"
      ],
      "outputs": [],
      "metadata": {
        "id": "SYcgkmrhxcJH"
      }
    },
    {
      "cell_type": "markdown",
      "source": [
        "### Rezygnacja z AC."
      ],
      "metadata": {
        "id": "AELaX6Nmo8iV"
      }
    },
    {
      "cell_type": "markdown",
      "source": [
        "#### Generowanie liczby kierowców rezygnujących z AC na początku miesiąca.\n",
        "Zmienna $Z$ zwraca liczby z rozkładu $N(0, 1)$ (z dużym prawdopodobieństwem są to wartości z przedziału od -3 do 3), dlatego też zmienna $|Z|$ ma wartości z przedziału od 0 do 3.\n",
        "Żeby parametr $p = |Z|\\frac{c_{AC}}{m_{AC}}$ w rozkładzie dwumianowym był mniejszy lub równy 1, wartość $m_{AC}$ musi być co najmniej 3 razy większa niż wartość $c_{AC}$ (inaczej rozkład nie będzie działał).<br>\n",
        "Jeżeli jednak parametr $p$ przekroczy wartość 1, wtedy (analogicznie do przypadku generowania liczby rezygnacji z OC) za $p$ podstawiamy 0.9."
      ],
      "metadata": {
        "id": "PEGZL8BI1g9D"
      }
    },
    {
      "cell_type": "code",
      "execution_count": 3,
      "source": [
        "def count_quit_AC_gen(m, c_AC, m_AC):\n",
        "    \"\"\"Generate count of clients resign AC.\n",
        "\n",
        "    Args:\n",
        "        m [int]: actual count of AC clients,\n",
        "        c_AC [int, float]: price of AC policy,\n",
        "        m_AC [int, float]: demand for AC policy.\n",
        "\n",
        "    Returns:\n",
        "        [int]: count of clients resign AC.\n",
        "    \"\"\"\n",
        "    Z = np.random.normal(0, 1)\n",
        "    p = np.abs(Z)*(c_AC/m_AC)\n",
        "    if p > 1:\n",
        "        p = 0.9\n",
        "    return np.random.binomial(m, p)"
      ],
      "outputs": [],
      "metadata": {
        "id": "qkuVqzmy0pAG"
      }
    },
    {
      "cell_type": "markdown",
      "source": [
        "### Wnioski:\n",
        "Wraz ze zwiększaniem się popytu na polisy, prawdopodobieństwo rezygnacji z ubezpieczeń zmniejsza się, a co za tym idzie mniej klientów odchodzi z naszej firmy.<br>\n",
        "Im większe ceny polis, tym więcej klientów rezygnuje z kupowania polis w naszej firmie."
      ],
      "metadata": {
        "id": "7J6ojSG4mWcN"
      }
    },
    {
      "cell_type": "markdown",
      "source": [
        "### Generowanie liczby nowo sprzedanych polis OC na początku każdego miesiąca."
      ],
      "metadata": {
        "id": "WLtnXatqu9aR"
      }
    },
    {
      "cell_type": "markdown",
      "source": [
        "Nakłady na marketing ($\\mu$) zwracają nam się w postaci nowych klientów.<br>\n",
        "Żeby marketing był dla nas opłacalny, generując parametr $\\lambda = 2\\log(1 + 1000\\mu\\sqrt{\\frac{M}{c_{OC}} + \\frac{s_{OC}}{c_{OC}}})$ w rozkładzie Poissona mnożymy $\\mu$ razy 1000.<br>\n",
        "W reklamę inwestujemy stałą kwotę równą 1000 zł - jest to dla nas najbardziej opłacalne - przy większych nakładach liczba naszych klientów i tak nie będzie znacząco rosnąć.<br>\n",
        "Parametr $s_{OC}$ (stała związana z popytem) ma u nas niezmienną wartość równą 100. Również parametr $n_0$ jest stały i wynosi 100.<br>\n",
        "Aktualna liczba klientów (w tym także parametr $n_0$) nie ma dużego wpływu na ilość nowo sprzedanych polis."
      ],
      "metadata": {
        "id": "2mI_l-s7sv6b"
      }
    },
    {
      "cell_type": "markdown",
      "source": [
        "#### Generator zmiennych losowych $M$ z rozkładu dyskretnego.\n",
        "Wykorzystujemy przy generowaniu liczby nowych klientów na początku miesiąca."
      ],
      "metadata": {
        "id": "-nfoBNZ21mWr"
      }
    },
    {
      "cell_type": "code",
      "execution_count": 4,
      "source": [
        "def M_distr_gen(n, n_0):\n",
        "    \"\"\"Generate random variable from discreet distribution.\n",
        "\n",
        "    Args:\n",
        "        n [int]: actual count of OC clients,\n",
        "        n_0 [int, float]: fixed parameter.\n",
        "\n",
        "    Returns:\n",
        "        [int]: random variable.\n",
        "    \"\"\"\n",
        "    u = np.random.uniform(0, 1)\n",
        "    if u <= 0.1:\n",
        "        return n/2\n",
        "    elif 0.1 < u <= 0.2:\n",
        "        return n/3\n",
        "    elif 0.2 < u <= 0.6:\n",
        "        return n/5\n",
        "    else:\n",
        "        return n_0"
      ],
      "outputs": [],
      "metadata": {
        "id": "v0bLcLIK3fUW"
      }
    },
    {
      "cell_type": "markdown",
      "source": [
        "#### Generator liczby nowo sprzedanych polis OC."
      ],
      "metadata": {
        "id": "fbQTHcOzvlDV"
      }
    },
    {
      "cell_type": "code",
      "execution_count": 5,
      "source": [
        "def count_sale_OC_gen(n, n0, s_OC, c_OC, mu):\n",
        "    \"\"\"Generate count of sale OC policy.\n",
        "\n",
        "    Args:\n",
        "        n [int]: actual count of OC clients,\n",
        "        n_0 [int, float]: fixed parameter,\n",
        "        s_OC [int, float]: constant related to the demand,\n",
        "        c_OC [int, float]: OC policy price,\n",
        "        mu [int, float]: marketing price.\n",
        "\n",
        "    Returns:\n",
        "        [int]: count of sale OC.\n",
        "    \"\"\"\n",
        "    M = M_distr_gen(n, n0)\n",
        "    advert = 1000*mu\n",
        "    lamb = 2*np.log(1 + advert*np.sqrt(M/c_OC) + s_OC/c_OC)\n",
        "    return np.random.poisson(lamb)"
      ],
      "outputs": [],
      "metadata": {
        "id": "4VmddMvuyYeS"
      }
    },
    {
      "cell_type": "markdown",
      "source": [
        "### Generowanie liczby nowo sprzedanych polis AC na początku każdego miesiąca."
      ],
      "metadata": {
        "id": "H6I8X-r74YxR"
      }
    },
    {
      "cell_type": "markdown",
      "source": [
        "Aktualna liczba naszych klientów OC ma bardzo duży wpływ na to, ile nowych polis AC sprzedamy. Liczba nowych klientów AC jest odwrotnie proporcjonalna do iloczynu ilości klientów OC oraz ceny polisy AC. Co oznacza, że im więcej klientów OC kupuje polisy w naszej firmie, tym mniej klientów AC zacznie do nas przychodzić.<br>\n",
        "Ponadto gdy nie mamy żadnych klientów AC na początku, klienci ci nie zaczną się pojawiać.<br>\n",
        "W celu uniknięcia błędnego działania programu, gdy parametr $p$ w rozkładzie dwumianowym przekroczy wartość 1, wtedy za $p$ podstawiamy 0.9."
      ],
      "metadata": {
        "id": "XPqzfKKlxQ3v"
      }
    },
    {
      "cell_type": "code",
      "execution_count": 6,
      "source": [
        "def count_sale_AC_gen(n, m, c_AC):\n",
        "    \"\"\"Generate count of sale AC policy.\n",
        "\n",
        "    Args:\n",
        "        n [int]: actual count of OC clients,\n",
        "        m [int]: actual count of AC clients,\n",
        "        c_AC [int, float]: AC policy price.\n",
        "\n",
        "    Returns:\n",
        "        [int]: count of sale AC.\n",
        "    \"\"\"\n",
        "    p = m/(n*c_AC)\n",
        "    if p > 1:\n",
        "        p = 0.9\n",
        "    return np.random.binomial(n, p)"
      ],
      "outputs": [],
      "metadata": {
        "id": "VwlYx_2f5HQ1"
      }
    },
    {
      "cell_type": "markdown",
      "source": [
        "### Funkcja licząca łączny miesięczny przychód ze sprzedaży polis OC i AC."
      ],
      "metadata": {
        "id": "V8Da5pTt65pD"
      }
    },
    {
      "cell_type": "code",
      "execution_count": 7,
      "source": [
        "def monthly_income(n, c_OC, m, c_AC):\n",
        "    \"\"\"Count monthly income from sale.\n",
        "\n",
        "    Args:\n",
        "        n [int]: actual count of OC clients,\n",
        "        c_OC [int, float]: OC policy price,\n",
        "        m [int]: actual count of AC clients,\n",
        "        c_AC [int, float]: AC policy price.\n",
        "\n",
        "    Returns:\n",
        "        [int, float]: income value.\n",
        "    \"\"\"\n",
        "    return n*c_OC + m*c_AC"
      ],
      "outputs": [],
      "metadata": {
        "id": "S-yrL4206429"
      }
    },
    {
      "cell_type": "markdown",
      "source": [
        "### Odszkodowania OC."
      ],
      "metadata": {
        "id": "dsIPFKsQOGqO"
      }
    },
    {
      "cell_type": "markdown",
      "source": [
        "#### Generator czasu pojawiania się szkód dla wszystkich klientów, którzy kupili OC."
      ],
      "metadata": {
        "id": "doUL39il5V0a"
      }
    },
    {
      "cell_type": "markdown",
      "source": [
        "Generator zwraca czasy szkód w ciągu jednego miesiąca.<br>\n",
        "Funkcja intensywności ($\\lambda (t)$) zależy od konkretnego okresu w roku oraz ilości sprzedanych polis OC i jest opisana wzorem:\n",
        "$$\\lambda(t) = \\sum_{i=0}^{n(t)}W_i\\cdot \\lambda_0(t),$$\n",
        "gdzie:<br><br>\n",
        "$n(t)$ - ilość sprzedanych w danym miesiącu polis (wliczamy stałych i nowych klientów),<br>\n",
        "$W_i \\sim Exp(\\lambda_{wi})$ - zmienna opisująca jak często dany kierowca miewa stłuczki,<br>\n",
        "$\\lambda_0(t)$ - intensywność wypadków w zależności od okresu w roku."
      ],
      "metadata": {
        "id": "5lq31JVW5k44"
      }
    },
    {
      "cell_type": "markdown",
      "source": [
        "##### Dobieranie parametru intensywności $\\lambda_0$ w zależności od danego miesiąca."
      ],
      "metadata": {
        "id": "I2NFkLjv5otJ"
      }
    },
    {
      "cell_type": "markdown",
      "source": [
        "Procentowy rozkład wypadków dla danego miesiąca w roku 2020:<br>\n",
        "<center>\n",
        "<img src=\"wypadki_drogowe_tabelka.png\" alt=\"Wypadki drogowe w 2020\"/>\n",
        "</center>\n",
        "\n",
        "Na podstawie danych z tabelki dobierzemy intesywność $\\lambda _0$.<br>\n",
        "W naszym przypadku średnia intensywność wypadków (wartość referencyjna) wynosi 1, dlatego procentowe dane z tabelki skalujemy według tej średniej. Średnia z tabelki wynosi około $8.3\\%$. Przykładowo przeskalowana intensywość dla stycznia wynosi $\\frac{8.5\\%}{8.3\\%} \\approx 1.03$."
      ],
      "metadata": {
        "id": "Rut1UcDB9khv"
      }
    },
    {
      "cell_type": "code",
      "execution_count": 8,
      "source": [
        "def lamb0(month):\n",
        "    \"\"\"Return intensity depend on month in year.\n",
        "\n",
        "    Args:\n",
        "        month [int]: number from 1 to 12.\n",
        "\n",
        "    Returns:\n",
        "        [float]: intensity.\n",
        "    \"\"\"\n",
        "    intensity= [1.03, 0.94, 0.73, 0.59, 0.87, 1.17, 1.29, 1.33, 1.31, 1.08, 0.8, 0.94]\n",
        "    i = int(month%12)\n",
        "    return intensity[i-1]"
      ],
      "outputs": [],
      "metadata": {
        "id": "VNIXdqW2vj3v"
      }
    },
    {
      "cell_type": "code",
      "execution_count": 9,
      "source": [
        "def lamb(count_of_sale, lamb_wi, month):\n",
        "    \"\"\"Generate Poisson intensity function depend on month.\n",
        "    Args:\n",
        "        count_of_sale [int]: count of sale OC policy,\n",
        "        lamb_wi [int, float]: parametr in exponential distribution,\n",
        "        month [int]: number from 1 to 12.\n",
        "\n",
        "    Returns:\n",
        "        [float]: intensity.\n",
        "    \"\"\"\n",
        "    return sum([np.random.exponential(1/lamb_wi)*lamb0(month) for __ in range(count_of_sale)])"
      ],
      "outputs": [],
      "metadata": {
        "id": "VgnYN247-W0o"
      }
    },
    {
      "cell_type": "code",
      "execution_count": 10,
      "source": [
        "def accident_OC_time_gen(count_of_sale, lamb_wi, month, T=30):\n",
        "    \"\"\"Generate accidents times for clients with OC policy.\n",
        "\n",
        "    Args:\n",
        "        count_of_sale [int]: count of sale OC policy,\n",
        "        lamb_wi [int, float]: parametr in exponential distribution,\n",
        "        month [int]: number from 1 to 12,\n",
        "        T (int, optional): time range in days. Defaults to 30.\n",
        "\n",
        "    Returns:\n",
        "        [list]: list with accidents times.\n",
        "    \"\"\"\n",
        "    S = []\n",
        "    t = 0\n",
        "    mybool = True\n",
        "    l = lamb(count_of_sale, lamb_wi, month)\n",
        "    if l > 0:\n",
        "        while mybool:\n",
        "            U = np.random.uniform(0, 1)\n",
        "            t = t - (1/l)*np.log(U)\n",
        "            if t > T:\n",
        "                mybool = False\n",
        "            else:\n",
        "                S.append(t)\n",
        "    else:\n",
        "        S = []\n",
        "    return S"
      ],
      "outputs": [],
      "metadata": {
        "id": "kBFKDe7l7mBC"
      }
    },
    {
      "cell_type": "markdown",
      "source": [
        "#### Generator wielkości pojedynczego odszkodowania dla klienta z polisą OC."
      ],
      "metadata": {
        "id": "mhVP92vwCQRG"
      }
    },
    {
      "cell_type": "markdown",
      "source": [
        "Dobieranie parametru Pareto:<br>\n",
        "Zmienną z rozkładu Pareto generujemy z parametrem 0.7. Jeżeli zmienna ta przekroczy wartość $40000$ [zł] (bo do takiej kwoty nasza firma wypłaca odszkodowania), wtedy wypłacamy 40000 zł.<br>\n",
        "Za każdym razem do zmiennej z rozkładu Pareto dodajemy 500 zł, żeby ceny odszkodowań miały sensowne wartości (zbliżone do tych w rzeczywistym życiu)."
      ],
      "metadata": {
        "id": "-88xRCX4GFwn"
      }
    },
    {
      "cell_type": "code",
      "execution_count": 11,
      "source": [
        "def size_of_OC_compensation():\n",
        "    \"\"\"Generate modified random value from Pareto distribution.\n",
        "\n",
        "    Returns:\n",
        "        [float]: random value.\n",
        "    \"\"\"\n",
        "    pareto = np.random.pareto(0.7) + 500\n",
        "    if pareto > 40000:\n",
        "        pareto = 40000\n",
        "    return pareto"
      ],
      "outputs": [],
      "metadata": {
        "id": "LLWeA29U_UkV"
      }
    },
    {
      "cell_type": "markdown",
      "source": [
        "#### Łączna miesięczna wartość odszkodowań OC dla wszystkich klientów."
      ],
      "metadata": {
        "id": "979XPGqNCavn"
      }
    },
    {
      "cell_type": "code",
      "execution_count": 12,
      "source": [
        "def monthly_OC_compensation_value(n, lamb_wi, month):\n",
        "    \"\"\"Count monthly OC compensation value for all clients.\n",
        "\n",
        "    Args:\n",
        "        n [int]: count of sale OC policy,\n",
        "        lamb_wi [int, float]: parametr in exponential distribution,\n",
        "        month [int]: number from 1 to 12.\n",
        "\n",
        "    Returns:\n",
        "        [float]: value of OC compensations.\n",
        "    \"\"\"\n",
        "    accidents_amount = len(accident_OC_time_gen(n, lamb_wi, month, T=30))\n",
        "    payment  = sum([size_of_OC_compensation() for __ in range(accidents_amount)])\n",
        "    return payment"
      ],
      "outputs": [],
      "metadata": {
        "id": "iB2jSXKYr6ud"
      }
    },
    {
      "cell_type": "markdown",
      "source": [
        "### Odszkodowania AC."
      ],
      "metadata": {
        "id": "8iHSraR3N67y"
      }
    },
    {
      "cell_type": "markdown",
      "source": [
        "#### Generator czasu pojawiania się szkód dla pojedynczego klienta, który kupił polisę AC."
      ],
      "metadata": {
        "id": "VMwhCav9No5z"
      }
    },
    {
      "cell_type": "code",
      "execution_count": 13,
      "source": [
        "def accident_AC_time_gen(T=30):\n",
        "    \"\"\"Generate accidents times for clients with AC policy.\n",
        "\n",
        "    Args:\n",
        "        T (int, optional): time range in days. Defaults to 30.\n",
        "\n",
        "    Returns:\n",
        "        [list]: list eith accidents times.\n",
        "    \"\"\"\n",
        "    S = []\n",
        "    t = 0\n",
        "    mybool = True\n",
        "    while mybool:\n",
        "        V = np.random.rayleigh(100*np.sqrt(np.pi/2))\n",
        "        tv = t + 20\n",
        "        u = np.random.uniform(tv, tv+V)\n",
        "        t = t + u\n",
        "        if t > T:\n",
        "            mybool = False\n",
        "        else:\n",
        "            S.append(t)\n",
        "    return S"
      ],
      "outputs": [],
      "metadata": {
        "id": "8R_75YL3MF8p"
      }
    },
    {
      "cell_type": "markdown",
      "source": [
        "Czas oczekiwania na sygnał jest zmienną z rozkładu $U(t_v, t_v + V)$.<br> W naszym przypadku $t_v = t + 20$ jest zmienną zależną od czasu poprzedniego skoku. Ponieważ generator zwraca czasy wypadków dla jednego klienta w ciągu miesiąca, nie powinno być ich dużo, a najczęściej nie będzie ich wcale. "
      ],
      "metadata": {
        "id": "TixYWE08IYxR"
      }
    },
    {
      "cell_type": "markdown",
      "source": [
        "#### Wielkości odszkodowań dla klientów z polisami AC."
      ],
      "metadata": {
        "id": "0h6YYqtBLa37"
      }
    },
    {
      "cell_type": "markdown",
      "source": [
        "\n",
        "Ponieważ zmienne z rozkładu Cauchy'ego zwracają zazwyczaj bardzo małe wartości, dlatego mnożymy je razy 10 i dodajemy do nich 500 (wtedy kwoty odszkodowań mają wartości bardziej zbliżone do rzeczywistych).<br>\n",
        "Kwota wypłacanego odszkodowania nie może przekroczyć wielokrotności (stała $M_{AC}$) ceny polisy ($c_{AC}$).\n",
        "W naszym przypadku jest to $10\\cdot c_{AC}$ ($M_{AC} = 10$)."
      ],
      "metadata": {
        "id": "zed3XHxONzg2"
      }
    },
    {
      "cell_type": "code",
      "execution_count": 14,
      "source": [
        "def size_of_AC_compensation(M_AC, c_AC):\n",
        "    \"\"\"Generate compensation value.\n",
        "\n",
        "    Args:\n",
        "        M_AC [int]: multiple of AC policy price,\n",
        "        c_AC [int, float]: AC price.\n",
        "\n",
        "    Returns:\n",
        "        [flaot]: AC compensation value.\n",
        "    \"\"\"\n",
        "    c = np.random.standard_cauchy()*10 + 500\n",
        "    return min(np.abs(c)/2, M_AC*c_AC)"
      ],
      "outputs": [],
      "metadata": {
        "id": "QdlINy8CRYzz"
      }
    },
    {
      "cell_type": "markdown",
      "source": [
        "#### Łączna miesięczna wartość odszkodowań AC dla wszystkich klientów."
      ],
      "metadata": {
        "id": "VZTA3pwLNDdL"
      }
    },
    {
      "cell_type": "code",
      "execution_count": 15,
      "source": [
        "def monthly_AC_compensation_value(m, M_AC, c_AC):\n",
        "    \"\"\"Count monthly AC compensation value for all clients.\n",
        "\n",
        "    Args:\n",
        "        m [int]: count of sale AC policy,\n",
        "        M_AC [int]: multiple of AC policy price,\n",
        "        c_AC [int, float]: AC price.\n",
        "\n",
        "    Returns:\n",
        "        [float]: value of AC compensations.\n",
        "    \"\"\"\n",
        "    accidents_amount = sum([len(accident_AC_time_gen()) for __ in range(m)])\n",
        "    return sum([size_of_AC_compensation(M_AC, c_AC) for __ in range(accidents_amount)])"
      ],
      "outputs": [],
      "metadata": {
        "id": "FGbYKCX5zfdb"
      }
    },
    {
      "cell_type": "markdown",
      "source": [
        "### Funkcja licząca wartość przy której automatycznie bankrutujemy.\n"
      ],
      "metadata": {
        "id": "Y-pieKcCX1we"
      }
    },
    {
      "cell_type": "markdown",
      "source": [
        "Jest ona zdefiniowana wzorem:\n",
        "$$bankructwo = -2k_0 - nc_{AC},$$\n",
        "gdzie:<br>\n",
        "$k_0$ - kapitał początkowy,<br>\n",
        "$n$ - ilość aktualnych klientów, którzy kupili OC w naszej firmie,<br>\n",
        "$c_{AC}$ - cena polisy AC."
      ],
      "metadata": {
        "id": "7yA_ycCcOjGs"
      }
    },
    {
      "cell_type": "code",
      "execution_count": 16,
      "source": [
        "def bankruptcy_value(n, k0, c_AC):\n",
        "    \"\"\"Count bankruptcy value.\n",
        "\n",
        "    Args:\n",
        "        n [int]: actual count of OC clients,\n",
        "        k0 [int, flaot]: start-up capital,\n",
        "        c_AC [int, float]: AC price.\n",
        "\n",
        "    Returns:\n",
        "        [flaot]: bankruptcy value.\n",
        "    \"\"\"\n",
        "    return -2*k0 - n*c_AC"
      ],
      "outputs": [],
      "metadata": {
        "id": "O6333FiZX05m"
      }
    },
    {
      "cell_type": "markdown",
      "source": [
        "### Wartość podatku, który płacimy raz w roku."
      ],
      "metadata": {
        "id": "PtO3v366ZK1t"
      }
    },
    {
      "cell_type": "markdown",
      "source": [
        "Funkcję liczącą wartość podatku definiujemy następująco:\n",
        "$$podatek = 0.3\\cdot z + 0.05\\cdot p + 0.04 \\cdot k,$$\n",
        "gdzie:<br>\n",
        "$k$ - kapitał - aktualny kapitał naszej firmy,<br>\n",
        "$p$ - przychód - łączna wartość sprzedanych polis OC i AC w ciągu roku,<br>\n",
        "$z$ - zysk - różnica przychodu i kosztów ich uzyskania (gdzie do kosztów wliczamy: nakłady na marketing ($\\mu$), wypłacane odszkodownia OC i AC oraz jeśli zaciągnęliśmy kredyt doliczmy oprocentownie w wysokości $r$).<br>\n",
        "Odsetki z całegu kredytu wynoszą: $20 \\cdot \\frac{1}{12} kredytu - kredyt = \\frac{2}{3} kredytu$, co miesiąc do kosztów uzyskania przychodu doliczamy $\\frac{1}{20}$ tych odetek:\n",
        "$$r = \\frac{1}{20}\\cdot\\frac{2}{3} kredytu = \\frac{1}{30} kredytu.$$"
      ],
      "metadata": {
        "id": "wxVltVuKP9U5"
      }
    },
    {
      "cell_type": "code",
      "execution_count": 17,
      "source": [
        "def pay_tax(year_income, year_loss, capital):\n",
        "    \"\"\"Count value of tax.\n",
        "\n",
        "    Args:\n",
        "        year_income [int, float]: income in year,\n",
        "        year_loss [int, float]: cost of getting income,\n",
        "        capital [int, float]: actual capital.\n",
        "\n",
        "    Returns:\n",
        "        [flaot]: value of tax to pay.\n",
        "    \"\"\"\n",
        "    profit = year_income - year_loss\n",
        "    profit_tax  = 0\n",
        "    capital_tax = 0\n",
        "    income_tax = 0.05*year_income\n",
        "    if profit > 0:\n",
        "        profit_tax = 0.3*profit\n",
        "    if capital > 0:\n",
        "        capital_tax = 0.04*capital\n",
        "    return  profit_tax + income_tax + capital_tax"
      ],
      "outputs": [],
      "metadata": {
        "id": "1JpPioBZZMbX"
      }
    },
    {
      "cell_type": "markdown",
      "source": [
        "### Funkcja generująca wysokość kredytu."
      ],
      "metadata": {
        "id": "MQ1LmOcHEpLV"
      }
    },
    {
      "cell_type": "code",
      "execution_count": 18,
      "source": [
        "def credit_gen(R):\n",
        "    \"\"\"Count credit value.\n",
        "\n",
        "    Args:\n",
        "        R [int, float]: actual capital.\n",
        "\n",
        "    Returns:\n",
        "        [int, float]: credit value\n",
        "    \"\"\"\n",
        "    return abs(R) + 10000"
      ],
      "outputs": [],
      "metadata": {
        "id": "NfI8PNrg-WAD"
      }
    },
    {
      "cell_type": "markdown",
      "source": [
        "### Parametry wykorzystywane w rozkładach.\n",
        "Parametry są stałe,  niezależnie od strategii i zostały dobrane tak, aby symulacja zwracała jak najbardziej rzeczywiste wyniki."
      ],
      "metadata": {
        "id": "hVQjPw17OLW5"
      }
    },
    {
      "cell_type": "code",
      "execution_count": 19,
      "source": [
        "n0 = 100\n",
        "#stała związana z popytem \n",
        "s_OC = 100\n",
        "#stała do rozkładu wykładniczego\n",
        "lamb_wi = 500\n",
        "#wielokrotność ceny polisy\n",
        "M_AC = 10"
      ],
      "outputs": [],
      "metadata": {
        "id": "TnwkR2RBN1Bn"
      }
    },
    {
      "cell_type": "markdown",
      "source": [
        "#### Popyt na polisy.\n",
        "Żeby rozkład dwumianowy działał jak najbardziej losowo, to w przypadku popytu na polisy OC, jego wartość powinna być większa lub równa cenie polisy.<br>\n",
        "Popyt na polisy AC powinien być około 3 razy większy niż cena tej polisy.<br>\n",
        "Dlatego też zakładając że popyt jest stały:<br>\n",
        "$m_{OC} = 200$, ceny polis OC nie powinny przekraczać 200,<br>\n",
        "$m_{AC} = 240$, ceny polis AC nie powinny przekraczać 80."
      ],
      "metadata": {
        "id": "KVjUGfu9Ox51"
      }
    },
    {
      "cell_type": "code",
      "execution_count": 143,
      "source": [
        "m_AC = 240\n",
        "m_OC = 200"
      ],
      "outputs": [],
      "metadata": {
        "id": "KtBSxK3JPFIl"
      }
    },
    {
      "cell_type": "markdown",
      "source": [
        "## Symulacja procesu ryzyka"
      ],
      "metadata": {
        "id": "Q09wYQIeKW2S"
      }
    },
    {
      "cell_type": "markdown",
      "source": [
        "### ALGORYTM:\n",
        "Początek i koniec symulacji podajemy jako numer miesiąca. Lata podajemy przeliczone na miesiące.\n",
        "\n",
        "Dla każdego miesiąca z podanego przedziału czasu:\n",
        "\n",
        "1. Sprawdzamy czy zbankrutowaliśmy, jeśli nie, wykonujemy nastepujące kroki:\n",
        "\n",
        "  1.1. Sprawdzamy czy spłacamy kredyt, jeżeli tak, to\n",
        "obliczamy ratę kredytu i doliczamy oprocentowanie do kosztów uzyskania przychodu.\n",
        "\n",
        "  1.2. Na podstwie strategii na marketing, sprawdzamy czy inwestujemy w reklamę w danym miesiącu.\n",
        "\n",
        "  1.3. Obliczamy aktualną liczbę klientów (dodaje nowych i odejmujemy, tych którzy zrezygnowali) oraz sprawdzamy czy ich liczba nie jest ujemna (jeżeli tak jest, to podstawiamy 0 za liczbę klientów).\n",
        "\n",
        "  1.4. Rejestrujemy miesięczny oraz roczny przychód.\n",
        "\n",
        "  1.5. Zapisujemy kapitał (dla danego miesiąca) powiększony o przychody.\n",
        "Jeżeli kapitał w tym momencie jest dodatni, kończymy odliczanie czasu ruiny (licznik zerujemy).\n",
        "\n",
        "  1.6. Obliczamy wielkości odszkodowań, które płacimy w danym miesiącu.\n",
        "\n",
        "  1.7. Obliczamy aktualny kapitał, od którego będziemy płacić podatek.\n",
        "\n",
        "  1.8. Jeżeli jest kwiecień płacimy podatek i odejmujemy go od kapitału.\n",
        "  \n",
        "  1.9. Zapisujemy aktualny kapitał.\n",
        "\n",
        "  1.10. Sprawdzamy czy kapitał jest ujemny, jeżeli jest, to zwiększamy czas ruiny i jeżeli nie mamy żadnych zobowiązań, bierzemy kredyt.\n",
        "\n",
        "  1.11. Sprawdzamy, czy zarabiamy milion.\n",
        "\n",
        "  1.12. Jeżeli nasz kapitał osiąga $10^6$ (i $\\textit{million_check=True}$) lub skończył się czas symulacjizwracamy tablice czasu i kapitału.\n",
        "2. W przypadku bankructwa zatrzymujemy proces ryzyka i zwracamy tablice wartości do momentu bankructwa."
      ],
      "metadata": {
        "id": "1tGwYwGmKc12"
      }
    },
    {
      "cell_type": "code",
      "execution_count": 21,
      "source": [
        "def risk_process(start, stop, k0, n, m, c_AC, c_OC, m_OC=200, m_AC=240, s_OC=100, lamb_wi=500, M_AC=10, million_check=False):\n",
        "    \"\"\"Generate risk process.\n",
        "\n",
        "    Args:\n",
        "        start [int]: month when simulation starts,\n",
        "        stop [int]: month when simulation stops,\n",
        "        k0 [float, int]: start-up capital,\n",
        "        n [int]: initial number of OC clients,\n",
        "        m [int]: initial number of AC clients,\n",
        "        c_AC [float, int]: AC price,\n",
        "        c_OC [float, int]: OC, price,\n",
        "        m_OC (int, optional): demand for OC policy. Defaults to 200.\n",
        "        m_AC (int, optional): demand for AC policy. Defaults to 240.\n",
        "        s_OC (int, optional): demand parameter. Defaults to 100.\n",
        "        lamb_wi (int, optional): exponential distribution parameter. Defaults to 500.\n",
        "        M_AC (int, optional): multiply of AC price parameter. Defaults to 10.\n",
        "        million_check (bool, optional): boolean to check if capital has reached a million. Defaults to False.\n",
        "\n",
        "    Returns:\n",
        "        [tuple with 2 lists]: list with time data, list with capital data.\n",
        "    \"\"\"\n",
        "    R_range = [k0]\n",
        "    time_range = [0]\n",
        "    bankruptcy = bankruptcy_value(n, k0, c_AC)\n",
        "    k = 0\n",
        "    t = 0\n",
        "    R = k0\n",
        "    n_var = n\n",
        "    m_var = m\n",
        "    credit_time = False\n",
        "    credit_start_counter = 26\n",
        "    credit_rate = 0\n",
        "    ruin_counter = 0\n",
        "    tax = 0\n",
        "    year_income = 0\n",
        "    year_loss = 0\n",
        "    mu = 1000\n",
        "    millionaire = 0\n",
        "    for t in range(start, stop+1):\n",
        "        if R > bankruptcy and ruin_counter < 24:\n",
        "            if credit_time:\n",
        "                #jeżeli zaciągnęliśmy kredyt zaczynamy odliczanie pół roku\n",
        "                credit_start_counter -= 1\n",
        "            #po upływie pół roku zaczynamy spłacać kredyt\n",
        "            #sprawdzamy czy już spłaciliśmy kredyt\n",
        "            if 0 < credit_start_counter <= 20:  \n",
        "                credit_rate = (1/12)*credit\n",
        "                credit_start_counter -= 1\n",
        "                #jeżeli spłacamy kredyt, to do kosztów uzysaknia przychodu doliczmy oprocentowanie kredytu\n",
        "                year_loss += (1/30)*credit\n",
        "            #po spłaceniu kredytu liczniki zerujemy \n",
        "            elif credit_start_counter <= 0 :\n",
        "                credit_time = False\n",
        "                credit_start_counter = 26\n",
        "                credit_rate = 0\n",
        "\n",
        "            #sprawdzamy czy inwestujemy w marketing\n",
        "            if mu > 5*R:\n",
        "                mu = 0\n",
        "            else:\n",
        "                mu = 100\n",
        "            \n",
        "            clients_quiting_OC = count_quit_OC_gen(n_var, c_OC, m_OC) #ilość klientów rezygnująca z OC\n",
        "            clients_quiting_AC = count_quit_AC_gen(m_var, c_AC, m_AC) #ilość klientów rezygnująca z AC\n",
        "            sale_OC = count_sale_OC_gen(n_var, n0, s_OC, c_OC, mu)\n",
        "            sale_AC = count_sale_AC_gen(n_var, m_var, c_AC)\n",
        "            n_var = n_var + sale_OC - clients_quiting_OC\n",
        "            m_var = m_var + sale_AC - clients_quiting_AC\n",
        "\n",
        "            #sprawdzamy czy liczba klientów nie jest mniejsza od 0 (liczba klientów nie może być ujemna)\n",
        "            if n_var < 0:\n",
        "                n_var = 0\n",
        "            if m_var < 0:\n",
        "                m_var = 0\n",
        "\n",
        "            income = monthly_income(n_var, c_OC, m_var, c_AC)\n",
        "            #rejestrujemy roczne przychody\n",
        "            year_income += income\n",
        "            #zapisujemy kapitał powiększony o przychody\n",
        "            R_plus = R + income\n",
        "            R_range.append(R_plus)\n",
        "            time_range.append(t)\n",
        "            #sprawdzamy czy jesteśmy na plusie\n",
        "            if R_plus > 0:\n",
        "                ruin_counter = 0\n",
        "\n",
        "            #obliczymy wielkość odszkodować dla wszystkich aktualnych klientów\n",
        "            OC_compensation = monthly_OC_compensation_value(n_var, lamb_wi, t)\n",
        "            AC_compensation = monthly_AC_compensation_value(m_var, M_AC, c_AC)\n",
        "            \n",
        "            year_loss += OC_compensation + AC_compensation + mu\n",
        "\n",
        "            #na koniec kwietnia płacimy podatek (R to nasz aktualny kapitał)\n",
        "            R = R + income - OC_compensation - AC_compensation - credit_rate - mu\n",
        "            if t%12 == 4:\n",
        "                tax = pay_tax(year_income, year_loss, R)\n",
        "                #po zapłaceniu podatku zerujemy licznik\n",
        "                year_income = 0\n",
        "                year_loss = 0\n",
        "            else:\n",
        "                tax = 0         \n",
        "            \n",
        "            #zapisujemy kapitał pomniejszony o odszkodowania, podatek, ratę kredytu, marketing\n",
        "            R = R - tax\n",
        "            R_range.append(R)\n",
        "            time_range.append(t)\n",
        "            #na koniec miesiąca sprawdzamy, czy kapitał jest ujemny\n",
        "            if R <= 0:\n",
        "                ruin_counter += 1\n",
        "            #sprawdzamy czy bierzemy kredyt\n",
        "            if R <= 0 and credit_time == False:\n",
        "                credit = credit_gen(R)\n",
        "                R += credit\n",
        "                credit_time = True\n",
        "            bankrupty = bankruptcy_value(n_var, k0, c_AC)\n",
        "            if million_check and R >= 10**6:\n",
        "                millionaire += 1\n",
        "                return time_range, R_range, millionaire     \n",
        "        else:\n",
        "          #po bankructwie zwracamy od razu tablice\n",
        "          return time_range, R_range, millionaire\n",
        "    return time_range, R_range, millionaire"
      ],
      "outputs": [],
      "metadata": {
        "id": "KpPcuIwvcqFN"
      }
    },
    {
      "cell_type": "markdown",
      "source": [
        "## Analizy przeprowadzone w celu ustalenia strategii i tego jak nasza firma będzie rozwijać się na przestrzeni czasu."
      ],
      "metadata": {
        "id": "FYvh_03z48sg"
      }
    },
    {
      "cell_type": "markdown",
      "source": [
        "### Strategia na marketing, zaciąganie kredytu, wysokości cen OC i AC."
      ],
      "metadata": {
        "id": "p9H22nMeLHyI"
      }
    },
    {
      "cell_type": "markdown",
      "source": [
        "#### MARKETING.\n",
        "Jak już wcześniej ustatlilismy nie opłaca nam się inwestować w marketing więcej niż 1000 zł. Strategia polega na tym, że jeżeli nasz kapitał jest 5 razy większy  niż nakład na marketing (wynosi więcej niż 5000 zł), wtedy inwestujemy w marketing, w przeciwnym wypadku rezygnujemy z niego w danym miesiącu, żeby nie ryzykować utraty pieniędzy.<br>\n"
      ],
      "metadata": {
        "id": "MLQwatKcLirG"
      }
    },
    {
      "cell_type": "markdown",
      "source": [
        "#### KREDYT.\n",
        "Jeżeli nasz kapitał spadnie poniżej 0, wtedy zaciągamy kredyt.\n",
        "Wysokość kredytu wynosi: $|R| + 10000$, gdzie $R$ to aktualny kapitał. Wartość ta jest dobrana w taki sposób, żebyśmy po wzięciu kredytu mieli 10000 zł kapitału i mogli ustabilizować nasze dochody.<br>\n",
        "Kredyt zaciągamy na koniec miesiąca, jeżeli mamy kwecień, to po zapłaceniu podatków (opłaca nam się to najbardziej, ponieważ przed zaciągnięciem kredytu mamy ujemny kapitał, z którego nie musimy płacić podatków).<br>"
      ],
      "metadata": {
        "id": "3bX5ECSMLOnw"
      }
    },
    {
      "cell_type": "markdown",
      "source": [
        "#### WYSOKOŚĆ CEN OC i AC.\n",
        "Sprawdzamy symulacyjnie jakie ceny polis OC i AC będą najbardziej opłacalne dla naszej firmy.<br>\n",
        "Jak wcześniej ustaliliśmy cena polis OC nie powinna przekroczyć 200 zł,\n",
        "a cena AC 80 zł.<br>\n",
        "Przeprowadzamy symulację dla następujących stałych parametrów:<br>\n",
        "$k_0 = 1000$  zł - kapitał początkowy,<br>\n",
        "$n = 10$ - początkowa ilość sprzedanych polis OC,<br>\n",
        "$m = 0$ - początkowa ilość sprzedanych polis AC.<br>\n",
        "Czas naszej symulacji wynosi 10 lat i wykonujemy ją dla kilku pakietów cen polis (zaczynamy od 40 zł w górę):<br>\n",
        "\n",
        "  1.$c_{OC} = 40$ zł, $c_{AC} = 40$ zł,<br>\n",
        "\n",
        "  2.$c_{OC} = 60$ zł, $c_{AC} = 50$ zł,<br>\n",
        "\n",
        "  3.$c_{OC} = 80$ zł, $c_{AC} = 60$ zł,<br>\n",
        "\n",
        "  4.$c_{OC} = 100$ zł, $c_{AC} = 70$ zł,<br>\n",
        "\n",
        "  5.$c_{OC} = 120$ zł, $c_{AC} = 80$ zł."
      ],
      "metadata": {
        "id": "T4MtZxz6LTUQ"
      }
    },
    {
      "cell_type": "code",
      "execution_count": 36,
      "source": [
        "k0 = 1000\n",
        "n = 10\n",
        "m = 0\n",
        "start = 1\n",
        "stop = 120"
      ],
      "outputs": [],
      "metadata": {
        "id": "GfVp2XGmq28O"
      }
    },
    {
      "cell_type": "code",
      "execution_count": 54,
      "source": [
        "def price_simulation(start, stop, k0, n, m, c_OC, c_AC):\n",
        "    \"\"\"Count average final capital and probability of bankruptcy. Print results.\n",
        "\n",
        "    Args:\n",
        "        start [int]: month when simulation starts,\n",
        "        stop [int]: month when simulation stops,\n",
        "        k0 [float, int]: start-up capital,\n",
        "        n [int]: initial number of OC clients,\n",
        "        m [int]: initial number of AC clients,\n",
        "        c_AC [float, int]: AC price,\n",
        "        c_OC [float, int]: OC, price.\n",
        "    \"\"\"\n",
        "    bankruptcy = 0\n",
        "    capital_tab = []\n",
        "    for __ in range(1000):\n",
        "        #żeby sprawdzić czy nie zbankrutowaliśmy w ostatnim miesiącu wykonujemy symulację dla kolejnego miesiąca\n",
        "        time, capital, millionaire  = risk_process(start, stop+1, k0, n, m, c_AC, c_OC)\n",
        "        if time[-1] == stop+1:\n",
        "            #zapisujemy ostatnią wartość kapitału dla ostatniego miesiąca w czasie symulacji\n",
        "            capital_tab.append(capital[-3])\n",
        "        else:\n",
        "            bankruptcy += 1\n",
        "    print(\"Średni kapitał końcowy przy cenie OC = {c_OC} [zł] i cenie AC = {c_AC} [zł]: \".format(c_OC=c_OC, c_AC=c_AC) + str(round(sum(capital_tab)/1000, 2))+\" [zł], prawdopodobieństwo bankructwa: \"+ str(bankruptcy/10)+\"%.\")"
      ],
      "outputs": [],
      "metadata": {
        "id": "2jpteiCPHeVH"
      }
    },
    {
      "cell_type": "markdown",
      "source": [
        "##### Pakiet 1"
      ],
      "metadata": {
        "id": "91o40DM6I0b2"
      }
    },
    {
      "cell_type": "code",
      "execution_count": 55,
      "source": [
        "price_simulation(start, stop, k0, n, m, 40, 40)"
      ],
      "outputs": [
        {
          "output_type": "stream",
          "name": "stdout",
          "text": [
            "Średni kapitał końcowy przy cenie OC = 40 [zł] i cenie AC = 40 [zł]: 99732.91 [zł], prawdopodobieństwo bankructwa: 38.8%.\n"
          ]
        }
      ],
      "metadata": {
        "id": "XglXPtPGKe9L",
        "colab": {
          "base_uri": "https://localhost:8080/"
        },
        "outputId": "c5eaa6f0-2d7e-4be6-f888-e9fa3b1c11f6"
      }
    },
    {
      "cell_type": "markdown",
      "source": [
        "##### Pakiet 2"
      ],
      "metadata": {
        "id": "hziCooKUJgHA"
      }
    },
    {
      "cell_type": "code",
      "execution_count": 56,
      "source": [
        "price_simulation(start, stop, k0, n, m, 60, 50)"
      ],
      "outputs": [
        {
          "output_type": "stream",
          "name": "stdout",
          "text": [
            "Średni kapitał końcowy przy cenie OC = 60 [zł] i cenie AC = 50 [zł]: 675281.66 [zł], prawdopodobieństwo bankructwa: 1.2%.\n"
          ]
        }
      ],
      "metadata": {
        "colab": {
          "base_uri": "https://localhost:8080/"
        },
        "id": "Cx2Bry_BIvJJ",
        "outputId": "d585e789-0162-4d4b-89fa-b3522a07c04b"
      }
    },
    {
      "cell_type": "markdown",
      "source": [
        "##### Pakiet 3 "
      ],
      "metadata": {
        "id": "SnJJyb8BJiin"
      }
    },
    {
      "cell_type": "code",
      "execution_count": 57,
      "source": [
        "price_simulation(start, stop, k0, n, m, 80, 60)"
      ],
      "outputs": [
        {
          "output_type": "stream",
          "name": "stdout",
          "text": [
            "Średni kapitał końcowy przy cenie OC = 80 [zł] i cenie AC = 60 [zł]: 671319.14 [zł], prawdopodobieństwo bankructwa: 0.4%.\n"
          ]
        }
      ],
      "metadata": {
        "colab": {
          "base_uri": "https://localhost:8080/"
        },
        "id": "ZrhLWoRkIv4j",
        "outputId": "65f30ca1-4b9c-483b-bc9b-d6a686a691a7"
      }
    },
    {
      "cell_type": "markdown",
      "source": [
        "##### Pakiet 4"
      ],
      "metadata": {
        "id": "J1biKMNjJlkf"
      }
    },
    {
      "cell_type": "code",
      "execution_count": 58,
      "source": [
        "price_simulation(start, stop, k0, n, m, 100, 70)"
      ],
      "outputs": [
        {
          "output_type": "stream",
          "name": "stdout",
          "text": [
            "Średni kapitał końcowy przy cenie OC = 100 [zł] i cenie AC = 70 [zł]: 572165.43 [zł], prawdopodobieństwo bankructwa: 0.1%.\n"
          ]
        }
      ],
      "metadata": {
        "colab": {
          "base_uri": "https://localhost:8080/"
        },
        "id": "KUAENK7GIwu_",
        "outputId": "ba779669-bb59-45b6-b4b0-fd00e3d86571"
      }
    },
    {
      "cell_type": "markdown",
      "source": [
        "##### Pakiet 5"
      ],
      "metadata": {
        "id": "rZDi2CsmJopV"
      }
    },
    {
      "cell_type": "code",
      "execution_count": 59,
      "source": [
        "price_simulation(start, stop, k0, n, m, 120, 80)"
      ],
      "outputs": [
        {
          "output_type": "stream",
          "name": "stdout",
          "text": [
            "Średni kapitał końcowy przy cenie OC = 120 [zł] i cenie AC = 80 [zł]: 477113.89 [zł], prawdopodobieństwo bankructwa: 0.0%.\n"
          ]
        }
      ],
      "metadata": {
        "colab": {
          "base_uri": "https://localhost:8080/"
        },
        "id": "T1LzQ55lIxXm",
        "outputId": "c5727f7e-37e6-49af-c6d7-bacc7de3daa9"
      }
    },
    {
      "cell_type": "markdown",
      "source": [
        "##### Wnioski:\n",
        "Najmniejsze prawdopodobieństwo bankructwa zapewnia nam pakiet 5 ($c_{OC} = 120 $ zł i $c_{AC} = 80$ zł), największy średni kapitał uzyskujemy przy pakiecie 2 oraz przy pakiecie 3 ($c_{OC} = 60$ zł i $c_{AC} = 50$ zł oraz $c_{OC} = 80$ zł i $c_{AC} = 60$ zł). Jednak przy pakiecie 3 prawdopodobieństwo bankructwa jest mniejsze, niż 1%, dlatego też ten pakiet jest dla nas najbardziej optymalny.<br>\n",
        "Na takiej podstawie ustalamy, że cena polisy OC będzie wynosić 80 zł, a cena polisy AC 60 zł."
      ],
      "metadata": {
        "id": "4tMCU4Iy7pNa"
      }
    },
    {
      "cell_type": "markdown",
      "source": [
        "##### Ustalone ceny polis."
      ],
      "metadata": {
        "id": "MYKE_ZXYbTSl"
      }
    },
    {
      "cell_type": "code",
      "execution_count": 37,
      "source": [
        "c_OC = 80\n",
        "c_AC = 60"
      ],
      "outputs": [],
      "metadata": {
        "id": "blnwVlYUbRjQ"
      }
    },
    {
      "cell_type": "markdown",
      "source": [
        "### Analiza procesu ryzyka dla ustalonych wcześniej strategii."
      ],
      "metadata": {
        "id": "yeNVEyODi7jA"
      }
    },
    {
      "cell_type": "markdown",
      "source": [
        "#### Funkcja generująca wykres procesu ryzyka."
      ],
      "metadata": {
        "id": "QGg3PG9sg6rG"
      }
    },
    {
      "cell_type": "code",
      "execution_count": 25,
      "source": [
        "def draw_plot(start, stop, k0, n, m, c_AC, c_OC):\n",
        "    \"\"\"Generate plot.\n",
        "\n",
        "    Args:\n",
        "        start [int]: month when simulation starts,\n",
        "        stop [int]: month when simulation stops,\n",
        "        k0 [float, int]: start-up capital,\n",
        "        n [int]: initial number of OC clients,\n",
        "        m [int]: initial number of AC clients,\n",
        "        c_AC [float, int]: AC price,\n",
        "        c_OC [float, int]: OC price.\n",
        "    \"\"\"\n",
        "    x_range, y_range, millionaire  = risk_process(start, stop, k0, n, m, c_AC, c_OC)\n",
        "    plt.plot(x_range, y_range)\n",
        "    plt.axhline(y=0, linestyle=\"--\", color=\"red\")\n",
        "    plt.axhline(y=10**6, linestyle=\"--\", color=\"m\")\n",
        "    plt.title(\"Proces ryzyka\")\n",
        "    plt.xlabel(\"miesiąc\")\n",
        "    plt.ylabel(\"kapitał\")\n",
        "    plt.show()"
      ],
      "outputs": [],
      "metadata": {
        "id": "RURW0vM7i-85"
      }
    },
    {
      "cell_type": "markdown",
      "source": [
        "#### Symulacja procesu ryzyka po 10 latach funkcjonowania firmy."
      ],
      "metadata": {
        "id": "apFXjNxAeL5K"
      }
    },
    {
      "cell_type": "code",
      "execution_count": 41,
      "source": [
        "def capital_simulation(start, stop, k0, n, m, c_OC, c_AC):\n",
        "    \"\"\"Count capital and bankruptcy value\n",
        "\n",
        "    Args:\n",
        "        start [int]: month when simulation starts,\n",
        "        stop [int]: month when simulation stops,\n",
        "        k0 [float, int]: start-up capital,\n",
        "        n [int]: initial number of OC clients,\n",
        "        m [int]: initial number of AC clients,\n",
        "        c_AC [float, int]: AC price,\n",
        "        c_OC [float, int]: OC price.\n",
        "\n",
        "    Returns:\n",
        "        [tuple with 4 float values]: maximum capital value, minimum capital value,\n",
        "        average capital value, bankruptcy probability\n",
        "    \"\"\"\n",
        "    bankruptcy = 0\n",
        "    capital_tab = []\n",
        "    for __ in range(1000):\n",
        "        #żeby sprawdzić czy nie zbankrutowaliśmy w ostatnim miesiącu wykonujemy symulację dla kolejnego miesiąca\n",
        "        time, capital, millionaire  = risk_process(start, stop+1, k0, n, m, c_AC, c_OC)\n",
        "        if time[-1] == stop+1:\n",
        "            #zapisujemy ostatnią wartość kapitału dla ostatniego miesiąca w czasie symulacji\n",
        "            capital_tab.append(capital[-3])\n",
        "        else:\n",
        "            bankruptcy += 1\n",
        "    return round(min(capital_tab), 2), round(max(capital_tab), 2), round(sum(capital_tab)/1000, 2), bankruptcy/10"
      ],
      "outputs": [],
      "metadata": {
        "id": "EX_YnJHXGS6q"
      }
    },
    {
      "cell_type": "code",
      "execution_count": 43,
      "source": [
        "min_capital, max_capital, average_capital, bankruptcy_prob = capital_simulation(1, 120, k0, n, m, 80, 60)"
      ],
      "outputs": [],
      "metadata": {
        "id": "WLBQ9AOfGNYC"
      }
    },
    {
      "cell_type": "code",
      "execution_count": 45,
      "source": [
        "print(\"Minimalna wartość kapitału: \"+ str(min_capital) + \" zł, \" + \"maksymalna wartość kapitału: \"+ str(max_capital) + \" zł, \" + \"średnia wartość kapitału: \"+ str(average_capital) + \" zł.\")\n",
        "print(\"Prawdopodobieństwo bankructwa: \"+str(bankruptcy_prob)+\"%.\")"
      ],
      "outputs": [
        {
          "output_type": "stream",
          "name": "stdout",
          "text": [
            "Minimalna wartość kapitału: 546291.67 zł, maksymalna wartość kapitału: 796151.78 zł, średnia wartość kapitału: 672241.6 zł.\n",
            "Prawdopodobieństwo bankructwa: 0.1%.\n"
          ]
        }
      ],
      "metadata": {
        "colab": {
          "base_uri": "https://localhost:8080/"
        },
        "id": "X-EvuxU4Jvl2",
        "outputId": "6a3b62c7-c943-4569-c378-fe43088402e4"
      }
    },
    {
      "cell_type": "code",
      "execution_count": 53,
      "source": [
        "draw_plot(start, stop, k0, n, m, c_AC, c_OC)"
      ],
      "outputs": [
        {
          "output_type": "display_data",
          "data": {
            "text/plain": [
              "<Figure size 432x288 with 1 Axes>"
            ],
            "image/png": "[encoded data removed]"
          },
          "metadata": {
            "tags": [],
            "needs_background": "light"
          }
        }
      ],
      "metadata": {
        "id": "ip9eYv-nmgre",
        "colab": {
          "base_uri": "https://localhost:8080/",
          "height": 295
        },
        "outputId": "c9082aa5-4e11-4247-de5a-5c0403943833"
      }
    },
    {
      "cell_type": "markdown",
      "source": [
        "##### Wnioski.\n",
        "Symulacyjnie ustaliliśmy, że średnia wartość kapitału po 10 latach wynosi: 672241.6 zł.<br>\n",
        "Widzimy jednak, że wartości te wahają się pomiędzy minimalną równą: 546291.67 zł, a maksymalną równą: 796151.78 zł.\n",
        "Żeby uogólnić analizę zaokrąglamy te wartości i otrzymujemy, że po 10 latach nasza firma będzie zarabiać od 500 000 - 800 000 zł.<br>\n",
        "Ustalone symulacyjnie prawdopodobieństwo bankructwa naszej firmy w ciągu tego czasu wynosi 0.1%. Możemy zatem wywnioskować, że nasza firma prosperuje bardzo dobrze i przy wyżej opisanej startegii jest małe prawdopodobieństwo, że zbankrutuje."
      ],
      "metadata": {
        "id": "rbUhdWK5eaKq"
      }
    },
    {
      "cell_type": "markdown",
      "source": [
        "##### Średni roczny zysk.\n",
        "Przeprowadzając analizę procesu ryzyka dla 10 lat, dochodzimy do wniosku, że nasza firma po upływie tego czasu będzie zarabiać 500 000 - 800 000 [zł], z czego wynika, że średnie roczne zarobki naszej firmy to około 50 000 - 80 000 [zł].<br>\n",
        "Jak możemy odczytać z powyższego wykresu zarobki te co roku są w miarę równomiernie rozłożone."
      ],
      "metadata": {
        "id": "fLmULL8AsKSx"
      }
    },
    {
      "cell_type": "markdown",
      "source": [
        "#### Sprawdzenie kiedy nasza firma zarobi $10^6$ zł."
      ],
      "metadata": {
        "id": "fUOVwuCEgXeW"
      }
    },
    {
      "cell_type": "markdown",
      "source": [
        "Sprawdzamy symulacyjnie średni czas kiedy nasza firma zarobi $10^6$ zł.<br>\n",
        "W celu uniknięcia nieskończonej symulacji ograniczamy czas do 20 lat."
      ],
      "metadata": {
        "id": "LEp1Aaxgn_yV"
      }
    },
    {
      "cell_type": "code",
      "execution_count": 60,
      "source": [
        "def check_when_millionaire(start, stop, k0, n, m, c_AC, c_OC):\n",
        "    \"\"\"Count time when company capital is one million.  \n",
        "\n",
        "    Args:\n",
        "        start [int]: month when simulation starts,\n",
        "        stop [int]: month when simulation stops,\n",
        "        k0 [float, int]: start-up capital,\n",
        "        n [int]: initial number of OC clients,\n",
        "        m [int]: initial number of AC clients,\n",
        "        c_AC [float, int]: AC price,\n",
        "        c_OC [float, int]: OC price.\n",
        "\n",
        "    Returns:\n",
        "        [tuple with 3 float value]: average time, minimum time, maximum time\n",
        "    \"\"\"\n",
        "    million_time = []\n",
        "    for __ in range(1000):\n",
        "        x_range, y_range, millionaire  = risk_process(start, stop, k0, n, m, c_AC, c_OC, million_check=True)\n",
        "        if millionaire == 1:\n",
        "            #jeżeli zarobiliśmy milion dodajemy czas kiedy to się stało\n",
        "            million_time.append(x_range[-1])\n",
        "    return sum(million_time)//1000, min(million_time), max(million_time)"
      ],
      "outputs": [],
      "metadata": {
        "id": "zeLAzaTPoROb"
      }
    },
    {
      "cell_type": "code",
      "execution_count": 61,
      "source": [
        "average_time, min_time, max_time = check_when_millionaire(1, 240, k0, n, m, c_AC, c_OC)"
      ],
      "outputs": [],
      "metadata": {
        "id": "t1750kjhk0a6"
      }
    },
    {
      "cell_type": "code",
      "execution_count": 62,
      "source": [
        "print(\"Średni czas po jakim nasza firma zarobi milion: \" + str(average_time//12) + \" lat, \" + str(average_time%12) + \" miesięcy.\")\n",
        "print(\"Minimalny czas po jakim nasza firma zarobi milion: \" + str(min_time//12) + \" lat, miesięcy: \" + str(min_time%12) + \" miesięcy.\")\n",
        "print(\"Maksymalny czas po jakim nasza firma zarobi milion: \" + str(max_time//12) + \" lat, \" + str(max_time%12) + \" miesięcy.\")"
      ],
      "outputs": [
        {
          "output_type": "stream",
          "name": "stdout",
          "text": [
            "Średni czas po jakim nasza firma zarobi milion: 16 lat, 1 miesięcy.\n",
            "Minimalny czas po jakim nasza firma zarobi milion: 14 lat, miesięcy: 0 miesięcy.\n",
            "Maksymalny czas po jakim nasza firma zarobi milion: 20 lat, 0 miesięcy.\n"
          ]
        }
      ],
      "metadata": {
        "colab": {
          "base_uri": "https://localhost:8080/"
        },
        "id": "z1974IREqruT",
        "outputId": "9bbc62fc-a243-4081-c2c6-52d44447abbb"
      }
    },
    {
      "cell_type": "code",
      "execution_count": 65,
      "source": [
        "draw_plot(1, 240, k0, n, m, c_AC, c_OC)"
      ],
      "outputs": [
        {
          "output_type": "display_data",
          "data": {
            "text/plain": [
              "<Figure size 432x288 with 1 Axes>"
            ],
            "image/png": "[encoded data removed]"
          },
          "metadata": {
            "tags": [],
            "needs_background": "light"
          }
        }
      ],
      "metadata": {
        "colab": {
          "base_uri": "https://localhost:8080/",
          "height": 295
        },
        "id": "Tt9gOKgku7iy",
        "outputId": "36d04778-6803-41fb-af00-9bd855df34d7"
      }
    },
    {
      "cell_type": "markdown",
      "source": [
        "##### Wnioski:\n",
        "Nasza firma zarobi $10^6$ zł średnio po upływie około 16 lat.<br>\n",
        "Jak jednak możemy zauważyć czas ten waha się od około 14 do 20 lat. Jest to przedział czasu, w którym prawdopodobieństwo zarobienia miliona jest bardzo wysokie.<br>\n",
        "Powyższy wykres przedstawia proces ryzyka dla 20 lat, pozioma górna linia zaznacza $10^6$. Punkt przecięcia wykresu z tą linią wyznacza czas, w którym nasza firma zarobiła milion."
      ],
      "metadata": {
        "id": "JBR2TSj3upsg"
      }
    },
    {
      "cell_type": "markdown",
      "source": [
        "### Prawdopodobieństwo ruiny w ciągu 5 lat."
      ],
      "metadata": {
        "id": "poAuqw6U0Ego"
      }
    },
    {
      "cell_type": "markdown",
      "source": [
        "Będziemy badać prawdopodobieństwo ruiny w ciągu 5 lat, w zależności od:\n",
        "\n",
        "  1.$k_0$ - kapitału początkowego,\n",
        "\n",
        "  2.$n$ - liczby sprzedanych polis OC,\n",
        "\n",
        "  3.$m$ - liczby sprzedanych polis AC."
      ],
      "metadata": {
        "id": "isp-0qS60XSi"
      }
    },
    {
      "cell_type": "markdown",
      "source": [
        "#### Prawdopodobieństwo ruiny w zależności od ilości klientów OC i AC.\n",
        "Sprawdzamy dla stałego kapitału początkowego ($k_0 = 1000$ zł)."
      ],
      "metadata": {
        "id": "hyeo2yvd1vBq"
      }
    },
    {
      "cell_type": "code",
      "execution_count": 72,
      "source": [
        "def ruin_prob_simulation(k0, list_nm, c_OC, c_AC, start=1, stop=60):\n",
        "    \"\"\"Count bankruptcy probability value depend on OC and AC initial number of clients.\n",
        "\n",
        "    Args:\n",
        "        k0 [float, int]: start-up capital,\n",
        "        list_nm [list]: list with OC and AC initial number of clients,\n",
        "        start (int, optional): month when simulation starts. Defaults to 1.\n",
        "        stop (int, optional): month when simulation stops. Defaults to 60.\n",
        "\n",
        "    Returns:\n",
        "        [list]: list with bankruptcy values.\n",
        "    \"\"\"\n",
        "    bankruptcy_tab = []\n",
        "    for value in list_nm:\n",
        "        bankruptcy = 0\n",
        "        for __ in range(1000):        \n",
        "            time, capital, millionaire  = risk_process(start, stop+1, k0, value, value, c_AC, c_OC)\n",
        "            if time[-1] != stop+1:\n",
        "                bankruptcy += 1\n",
        "        bankruptcy_tab.append(bankruptcy/10)\n",
        "    return bankruptcy_tab"
      ],
      "outputs": [],
      "metadata": {
        "id": "tcNVFjD2YBPu"
      }
    },
    {
      "cell_type": "code",
      "execution_count": 67,
      "source": [
        "def draw_prob_depend_on_clients_plot(list_mn, prob_tab):\n",
        "    \"\"\"Draw 3d probability depend on OC and AC initial number of clients plot.\n",
        "\n",
        "    Args:\n",
        "        list_nm [list]: list with OC and AC initial number of clients,\n",
        "        prob_tab [list]: list with probability of bankruptcy values.\n",
        "    \"\"\"\n",
        "    fig = plt.figure()\n",
        "    ax = fig.add_subplot(111, projection='3d')\n",
        "    fig.set_size_inches(9, 7)\n",
        "    ax.scatter(list_mn, list_mn, prob_tab, s=30, color=\"red\")\n",
        "    ax.set_title(\"Prawdopodobieństwo bankructwa w zależności od początkowej ilości klientów\")\n",
        "    ax.set_xlabel(\"m\")\n",
        "    ax.set_ylabel(\"n\")\n",
        "    ax.set_zlabel(\"prawdopodobieństwo\")\n",
        "    plt.show()"
      ],
      "outputs": [],
      "metadata": {
        "id": "4TS421TZiSHs"
      }
    },
    {
      "cell_type": "code",
      "execution_count": 73,
      "source": [
        "list_mn = [i*10 for i in range(1, 32, 2)]\n",
        "k0 = 1000"
      ],
      "outputs": [],
      "metadata": {
        "id": "NePeKTXfdnp0"
      }
    },
    {
      "cell_type": "code",
      "execution_count": null,
      "source": [
        "prob_tab = ruin_prob_simulation(k0, list_mn, c_OC, c_AC, start=1, stop=60)"
      ],
      "outputs": [],
      "metadata": {
        "id": "CQdbJciVYiyz"
      }
    },
    {
      "cell_type": "code",
      "execution_count": 77,
      "source": [
        "draw_prob_depend_on_clients_plot(list_mn, prob_tab)"
      ],
      "outputs": [
        {
          "output_type": "display_data",
          "data": {
            "text/plain": [
              "<Figure size 648x504 with 1 Axes>"
            ],
            "image/png": "[encoded data removed]"
          },
          "metadata": {
            "tags": [],
            "needs_background": "light"
          }
        }
      ],
      "metadata": {
        "colab": {
          "base_uri": "https://localhost:8080/",
          "height": 411
        },
        "id": "G9ZE1BYAgK2E",
        "outputId": "ede31631-31c0-439c-a473-63c1d89a5951"
      }
    },
    {
      "cell_type": "markdown",
      "source": [
        "##### Wnioski:\n",
        "Wykres przedstawia zależność pomiędzy początkowa ilością klientów kupujących polisy OC i AC (osie poziome), a prawdopodobieństwem bankructwa (oś pionowa).<br>\n",
        "Jak możemy wywnioskować, im większa liczba początkowych klientów, tym mniejsze jest prawdopodobieństwo bankructwa.<br>\n",
        "Z wykresu wynika, że dla początkowej ilości klientów od około 150 wzwyż, prawdopodobieństwo ruiny wynosi 0. Z taką początkową liczbą klientów nasza firma nie zbankrutuje w ciągu 5 lat."
      ],
      "metadata": {
        "id": "FJgslKRkaM16"
      }
    },
    {
      "cell_type": "markdown",
      "source": [
        "#### Prawdopodobieństwo ruiny w zależności od kapitału początkowego.\n",
        "Sprawdzamy dla stałej ilości początkowych klientów $n = 100$, $m = 100$."
      ],
      "metadata": {
        "id": "O5fC_5nic-_E"
      }
    },
    {
      "cell_type": "code",
      "execution_count": 85,
      "source": [
        "def ruin_prob_simulation2(k0_list, m, n, c_OC, c_AC, start=1, stop=60):\n",
        "    \"\"\"Count bankruptcy probability value depend on start-up capital value.\n",
        "\n",
        "    Args:\n",
        "        k0_list [list]: list of start-up capitals,\n",
        "        m [int]: inital number of AC clients,\n",
        "        n [int]: inital number of OC clients,\n",
        "        c_OC [float, int]: OC price,\n",
        "        c_AC [float, int]: AC price,\n",
        "        start (int, optional): month when simulation starts. Defaults to 1.\n",
        "        stop (int, optional): month when simulation stops. Defaults to 60.\n",
        "\n",
        "    Returns:\n",
        "        [list]: list with probability of bankruptcy values..\n",
        "    \"\"\"\n",
        "    bankruptcy_tab = []\n",
        "    for k in k0_list:\n",
        "        bankruptcy = 0\n",
        "        for __ in range(1000):       \n",
        "            time, capital, millionaire  = risk_process(start, stop+1, k, m, n, c_AC, c_OC)\n",
        "            if time[-1] != stop+1:\n",
        "                bankruptcy += 1\n",
        "        bankruptcy_tab.append(bankruptcy/10)\n",
        "    return bankruptcy_tab"
      ],
      "outputs": [],
      "metadata": {
        "id": "IPMRbIuMdYFQ"
      }
    },
    {
      "cell_type": "code",
      "execution_count": 93,
      "source": [
        "def draw_prob_depend_on_capital_plot(k0_list, prob_tab):\n",
        "    \"\"\"Draw 2d probability depend on start-up capital values plot.\n",
        "    \n",
        "    Args:\n",
        "        k0_list [list]: list with start-up capitals,\n",
        "        prob_tab [list]: list with probability of bankruptcy values.\n",
        "    \"\"\"\n",
        "    plt.figure(figsize=(9, 5))\n",
        "    plt.scatter(k0_list, prob_tab, color=\"m\")\n",
        "    plt.title(\"Prawdopodobieństwo bankructwa w zależności od kapitału początkowego\")\n",
        "    plt.xlabel(\"kapitał początkowy\")\n",
        "    plt.ylabel(\"prawdopodobieństwo\")\n",
        "    plt.show()"
      ],
      "outputs": [],
      "metadata": {
        "id": "r6yvQRdvmhJ2"
      }
    },
    {
      "cell_type": "code",
      "execution_count": 81,
      "source": [
        "m = 100\n",
        "n = 100\n",
        "k0 = [100, 500, 750, 1000, 5000, 7500, 10000, 50000, 75000, 100000]"
      ],
      "outputs": [],
      "metadata": {
        "id": "RDx9e_ju1tDv"
      }
    },
    {
      "cell_type": "code",
      "execution_count": 86,
      "source": [
        "prob2_tab = ruin_prob_simulation2(k0, m, n, c_OC, c_AC, start=1, stop=60)"
      ],
      "outputs": [],
      "metadata": {
        "id": "w_ezHgGOk3tU"
      }
    },
    {
      "cell_type": "code",
      "execution_count": 94,
      "source": [
        "draw_prob_depend_on_capital_plot(k0, prob2_tab)"
      ],
      "outputs": [
        {
          "output_type": "display_data",
          "data": {
            "text/plain": [
              "<Figure size 648x360 with 1 Axes>"
            ],
            "image/png": "[encoded data removed]"
          },
          "metadata": {
            "tags": [],
            "needs_background": "light"
          }
        }
      ],
      "metadata": {
        "colab": {
          "base_uri": "https://localhost:8080/",
          "height": 350
        },
        "id": "d_XFR1u5VJnJ",
        "outputId": "9d05c0b9-8ee9-4d25-f805-bbafe70cc228"
      }
    },
    {
      "cell_type": "markdown",
      "source": [
        "##### Wnioski:\n",
        "Wykres przedstawia prawdopodobieństwo bankructwa w zależności od wartości kapitału początkowego. Jak widzimy od kapitału równego około 7500 zł wzwyż prawdopodobieństwo bankructwa wynosi 0. Z tego wynika, że z kapitałem początkowym równym około 7500 zł i przy początkowej liczbie klientów OC i AC równej 100 każda, nasza firma nie zbankrutuje w ciągu 5 lat."
      ],
      "metadata": {
        "id": "bSxZ6TTMeakc"
      }
    },
    {
      "cell_type": "markdown",
      "source": [
        "#### Wykresy przedstwiający proces ryzyka dla 5 lat."
      ],
      "metadata": {
        "id": "MRtGTcbHlq_I"
      }
    },
    {
      "cell_type": "code",
      "execution_count": 100,
      "source": [
        "def draw_plot2(start, stop, k0, n, m, c_AC, c_OC):\n",
        "    \"\"\"Generate plot.\n",
        "\n",
        "    Args:\n",
        "        start [int]: month when simulation starts,\n",
        "        stop [int]: month when simulation stops,\n",
        "        k0 [float, int]: start-up capital,\n",
        "        n [int]: initial number of OC clients,\n",
        "        m [int]: initial number of AC clients,\n",
        "        c_AC [float, int]: AC price,\n",
        "        c_OC [float, int]: OC price.\n",
        "    \"\"\"\n",
        "    x_range, y_range, millionaire  = risk_process(start, stop, k0, n, m, c_AC, c_OC)\n",
        "    plt.plot(x_range, y_range)\n",
        "    plt.axhline(y=0, linestyle=\"--\", color=\"red\")\n",
        "    plt.title(\"Proces ryzyka\")\n",
        "    plt.xlabel(\"miesiąc\")\n",
        "    plt.ylabel(\"kapitał\")\n",
        "    plt.show()"
      ],
      "outputs": [],
      "metadata": {
        "id": "cKBg827pmK5o"
      }
    },
    {
      "cell_type": "markdown",
      "source": [
        "Dla różnych wartości kapitału początkowego i stałej ilości początkowych klientów ($n=100$ i $m=100$)."
      ],
      "metadata": {
        "id": "Cu9Lt4hPiJvW"
      }
    },
    {
      "cell_type": "markdown",
      "source": [
        "Dla kapitału początkowego $k_0 = 1000$ zł."
      ],
      "metadata": {
        "id": "4yM4EuJCkD_0"
      }
    },
    {
      "cell_type": "code",
      "execution_count": 101,
      "source": [
        "k0 = 1000\n",
        "draw_plot2(1, 60, k0, n, m, c_AC, c_OC)"
      ],
      "outputs": [
        {
          "output_type": "display_data",
          "data": {
            "text/plain": [
              "<Figure size 432x288 with 1 Axes>"
            ],
            "image/png": "[encoded data removed]"
          },
          "metadata": {
            "tags": [],
            "needs_background": "light"
          }
        }
      ],
      "metadata": {
        "colab": {
          "base_uri": "https://localhost:8080/",
          "height": 295
        },
        "id": "nDSKDVpd1t9I",
        "outputId": "bcaf1137-f9b2-402b-a15e-77ed986b717d"
      }
    },
    {
      "cell_type": "markdown",
      "source": [
        "Dla kapitału początkowego $k_0 = 10 000$ zł."
      ],
      "metadata": {
        "id": "ceAn4_hNkVv-"
      }
    },
    {
      "cell_type": "code",
      "execution_count": 102,
      "source": [
        "k0 = 10000\n",
        "draw_plot2(1, 60, k0, n, m, c_AC, c_OC)"
      ],
      "outputs": [
        {
          "output_type": "display_data",
          "data": {
            "text/plain": [
              "<Figure size 432x288 with 1 Axes>"
            ],
            "image/png": "[encoded data removed]"
          },
          "metadata": {
            "tags": [],
            "needs_background": "light"
          }
        }
      ],
      "metadata": {
        "colab": {
          "base_uri": "https://localhost:8080/",
          "height": 295
        },
        "id": "iEtDPuVB1uwF",
        "outputId": "f4789e52-8ba0-440e-c647-6ef20d673c56"
      }
    },
    {
      "cell_type": "markdown",
      "source": [
        "Dla kapitału początkowego $k_0 = 10 000$ zł."
      ],
      "metadata": {
        "id": "eoVQHHDEkb99"
      }
    },
    {
      "cell_type": "code",
      "execution_count": 103,
      "source": [
        "k0 = 100000\n",
        "draw_plot2(1, 60, k0, n, m, c_AC, c_OC)"
      ],
      "outputs": [
        {
          "output_type": "display_data",
          "data": {
            "text/plain": [
              "<Figure size 432x288 with 1 Axes>"
            ],
            "image/png": "[encoded data removed]"
          },
          "metadata": {
            "tags": [],
            "needs_background": "light"
          }
        }
      ],
      "metadata": {
        "colab": {
          "base_uri": "https://localhost:8080/",
          "height": 295
        },
        "id": "20AI5_ZPkda4",
        "outputId": "e83dc01e-ba0f-4d72-b70e-b7bad23dc515"
      }
    },
    {
      "cell_type": "markdown",
      "source": [
        "##### Wnioski:\n",
        "Dla początkowego kapitału $k_0 = 1000$ zł końcowy kapitał będzie porównywalny do tego jaki osiągamy gdy $k_0 = 100 000 $ zł. Dla kapitału początkowego $k_0 = 10 000$ zł nasza firma zarobi mniej niż dla $k_0 = 1000$ zł.<br>\n",
        "Z tego wynika, że początkowy kapitał nie wpływa znacząco na kapitał naszej firmy po 5 latach. "
      ],
      "metadata": {
        "id": "5ebtszpkm6Ig"
      }
    },
    {
      "cell_type": "markdown",
      "source": [
        "## Animacja"
      ],
      "metadata": {
        "id": "GeMkp6zv-TqK"
      }
    },
    {
      "cell_type": "markdown",
      "source": [
        "Animację wykonujemy dla podanych poniżej parametrów."
      ],
      "metadata": {
        "id": "RPUF3jT8jOJq"
      }
    },
    {
      "cell_type": "code",
      "execution_count": 104,
      "source": [
        "c_OC = 80\n",
        "c_AC = 60\n",
        "start = 1\n",
        "stop = 120\n",
        "k0 = 1000\n",
        "n = 10\n",
        "m = 0"
      ],
      "outputs": [],
      "metadata": {
        "id": "KXFqTe72-e-e"
      }
    },
    {
      "cell_type": "code",
      "execution_count": 135,
      "source": [
        "def animation_gen(start, stop, k0, n, m, c_AC, c_OC):\n",
        "    \"\"\"Generate risk process animation.\n",
        "\n",
        "    Args:\n",
        "        start [int]: month when simulation starts,\n",
        "        stop [int]: month when simulation stops,\n",
        "        k0 [float, int]: start-up capital,\n",
        "        n [int]: initial number of OC clients,\n",
        "        m [int]: initial number of AC clients,\n",
        "        c_AC [float, int]: AC price,\n",
        "        c_OC [float, int]: OC price.\n",
        "    \"\"\"\n",
        "    fig = plt.figure(figsize=(7, 4))\n",
        "    time, capital, million = risk_process(start, stop, k0, n, m, c_AC, c_OC)  \n",
        "\n",
        "    axis = plt.axes(xlim=(0, max(time)),  ylim=(min(capital), max(capital)))\n",
        "    line, = axis.plot([], [], lw=1.5)\n",
        "\n",
        "    def animate(frame_number):\n",
        "        x = time[0:frame_number]\n",
        "        y = capital[0:frame_number]\n",
        "        line.set_data(x, y)\n",
        "        return line,\n",
        "\n",
        "\n",
        "    anim = FuncAnimation(fig, animate, frames=len(time), \n",
        "                                interval=60, blit=False, repeat=False)\n",
        "    fig.suptitle('Proces ryzyka', fontsize=14)\n",
        "    axis.set_xlabel(\"miesiąc\")\n",
        "    axis.set_ylabel(\"kapitał\")\n",
        "    video = anim.to_html5_video()\n",
        "\n",
        "    html = display.HTML(video)\n",
        "\n",
        "    display.display(html)\n",
        "\n",
        "    plt.close()"
      ],
      "outputs": [],
      "metadata": {
        "id": "tCdUGPQy21CU"
      }
    },
    {
      "cell_type": "code",
      "execution_count": 136,
      "source": [
        "animation_gen(start, stop, k0, n, m, c_AC, c_OC)"
      ],
      "outputs": [
        {
          "output_type": "display_data",
          "data": {
            "text/plain": [
              "<IPython.core.display.HTML object>"
            ],
            "text/html": [
              "<video width=\"504\" height=\"288\" controls autoplay>\n",
              "  <source type=\"video/mp4\" src=\"data:video/mp4;base64,AAAAHGZ0eXBNNFYgAAACAGlzb21pc28yYXZjMQAAAAhmcmVlAABPom1kYXQAAAKuBgX//6rcRem9\n",
              "5tlIt5Ys2CDZI+7veDI2NCAtIGNvcmUgMTUyIHIyODU0IGU5YTU5MDMgLSBILjI2NC9NUEVHLTQg\n",
              "QVZDIGNvZGVjIC0gQ29weWxlZnQgMjAwMy0yMDE3IC0gaHR0cDovL3d3dy52aWRlb2xhbi5vcmcv\n",
              "eDI2NC5odG1sIC0gb3B0aW9uczogY2FiYWM9MSByZWY9MyBkZWJsb2NrPTE6MDowIGFuYWx5c2U9\n",
              "MHgzOjB4MTEzIG1lPWhleCBzdWJtZT03IHBzeT0xIHBzeV9yZD0xLjAwOjAuMDAgbWl4ZWRfcmVm\n",
              "PTEgbWVfcmFuZ2U9MTYgY2hyb21hX21lPTEgdHJlbGxpcz0xIDh4OGRjdD0xIGNxbT0wIGRlYWR6\n",
              "b25lPTIxLDExIGZhc3RfcHNraXA9MSBjaHJvbWFfcXBfb2Zmc2V0PS0yIHRocmVhZHM9MyBsb29r\n",
              "YWhlYWRfdGhyZWFkcz0xIHNsaWNlZF90aHJlYWRzPTAgbnI9MCBkZWNpbWF0ZT0xIGludGVybGFj\n",
              "ZWQ9MCBibHVyYXlfY29tcGF0PTAgY29uc3RyYWluZWRfaW50cmE9MCBiZnJhbWVzPTMgYl9weXJh\n",
              "bWlkPTIgYl9hZGFwdD0xIGJfYmlhcz0wIGRpcmVjdD0xIHdlaWdodGI9MSBvcGVuX2dvcD0wIHdl\n",
              "aWdodHA9MiBrZXlpbnQ9MjUwIGtleWludF9taW49MTYgc2NlbmVjdXQ9NDAgaW50cmFfcmVmcmVz\n",
              "aD0wIHJjX2xvb2thaGVhZD00MCByYz1jcmYgbWJ0cmVlPTEgY3JmPTIzLjAgcWNvbXA9MC42MCBx\n",
              "cG1pbj0wIHFwbWF4PTY5IHFwc3RlcD00IGlwX3JhdGlvPTEuNDAgYXE9MToxLjAwAIAAABGBZYiE\n",
              "AD///vdonwKbWkN6gOSVxSXbT4H/q2dwhnPwYyHQANxytj7ZAEhs4p7wXtq5D/E0W9HAYJibl+4g\n",
              "ZgPSAseO97PWREMmUccuGSDQQkPVNYdN4F5ShDLfaL59NCWlWyvvT4PSHZCf8NFniF7jk3VNI5ci\n",
              "rMMOA2tcqT0TkDiO1+8u2+G23QEDpmGpDY3Ha6++IJWQzQtyZYJhZK7DRp+3KCis23ixxV7otqlx\n",
              "bajDFeBmwFwhG0D9Zh/+isHxPvrhLhz4rJypusViyIDsSE6U8M2udN3UbwSMFapQ8tw5WFnOycvA\n",
              "W/LbLGwb3USp+HdgWrMUqYbvLsJynKdpu8ZzKh3eYy54rkymOsdzpZjAYkG1TU+n08D7SItS+WUi\n",
              "BdNgZqyq0528kSW+2f1SFsjiCyupTWG+V2Bxt/k/AMWdIIWNuz4r7m7jj4isffHVhxyO3b5AA6YW\n",
              "YkhvncFBt3rhYMP0YFUa0EMJe1SxnhZdH/g9DK9FqD/LC80crUWAzBTXzLN3qWhy/kPDE90k9eZv\n",
              "6wYD+B3bDDB3iQJyRKV2FcLiwOwk5d5AQZgG/HGpRfT/KMTIy9tJ1+df9Tvt/OSRiPtCIV+FMwbI\n",
              "QDKMQwKDjw+eey5AHtsgztdcd9qgmYS0ZbSNNZ/Orrc7U8IVizK/JeFe0s0pEgYLIs7+xZRUPqTc\n",
              "H0TGBd02Qdk7+60vSKiMWB6iS6L6GBrSHQB2qMYolWB3M7XPlMXiMkIYevTdSG9sN0JPsUxaby46\n",
              "BP0LAVZY5csA3XhCoLzOEFNl5wDPNAAMOzhbXXNwhqO66NLUTn8vvPMeI0WrECol9NhLdBAuytp1\n",
              "CcKEVTMTehRaIuO8zgdcm8Akx2Cg9VGqHHQ1+D5omTKjDE8ZgJ5xTU6ev3PfFHHvYe5Zndvg+1gL\n",
              "zeYAAZZd1froL6lOlrWnDR1kk5B6GURH4Mu6dMJwQRVDnECsALcA7kEI7lVtqBTgEKYhThzKunoJ\n",
              "A2A/k1xegbCmvlSMS+LUAqdyUzsvsYEIRrsOnAl+XEZ4OpnqdygAbkuJxYp/Iu3ENng2x8GPytJg\n",
              "gGjswcmPbssbYp8FIFWKx6Qxe05WpG1rjSznvUt0MKOIDSapMCfOMtnAG/QGZK5qWbZkxB12BFVW\n",
              "n2DyE4O0LpUJXZwPA1YsAoqOaqR3RMF7I6V0+gKsDoeLbVtr54x9vz1RwMkVJ8AZgeAtP+xAo4/I\n",
              "fzhZ1lFnrwCL7wu+vBX81ecUZeAS0adh0YmB7Ekwb3kkNQrEutioMIDLeXxCsM+/hMi/ZRJfG99f\n",
              "knX2YJzR6qXEdobNYGNotVsGNpEi5EmLFb2Fi81O5GGr8Apsf8ABBZ0bBfr+LmDQ3zGtYsOjKBu1\n",
              "A/UjNJ29sFP4acL/bpT4JzZgJKbHPhQEbu/5TUtQ/72mc0qOqtjLMotWo47//+QhKiANjKbgR3B0\n",
              "HTI1oaA1Nx1RIAAA8GAZI/PZxPXrTMFpPOkPe8nBJQFyxHVrJRH1pD+F8foAAAbVs6AW/tdcSRgB\n",
              "Ofn4YLXecnx+B6yEVMsAEZuBFdqsHL28h0aUuell9tm/PwNKC/IHxTYlVWvdpLGlnSlC+2s9Hfx+\n",
              "COck/0NKZ3hniaPAXDByKAnM++Zo3ydmWP4LIRBMERfX84XhXsqv2NMFqOwDa0+Ht7C4ZEW3mRAn\n",
              "gMilehaTm/GBUaeE0B1NCpB6e4zbSLOpKuUnwrTK/l5DRIaNICuGpC/kwThRBSF1YhWj/9qvX8pj\n",
              "5/PaZ/8KKYGUq0rKh4wcgj+Oa5LXItPJmBVpmg+YAjbMMs0qxt/pzjjY14Aq5AJoHiGg/WOyl6ba\n",
              "sxyMStVC8V325SHF36YXUSG9Ybv8yFuQwGRZX8Bwtrhs4pvHkS+wJTm9UxsfGkqp4MrmBBidF4NG\n",
              "Oy1AALUAQBBoWCFWTjWTNvfshu4tee+M1KkhvZiE7n6mMUdQ8rY0Lrw81zMCZnOk6pvK0SH/j7sL\n",
              "jOeLFIY/5DyqTcJ6hEMS+JxPEuwUjOsNN8+KnzlfGlwAYMlcnpPvxPg7cERQRoyRes8I/zVTTYld\n",
              "2iGytLIOaTCCDkCazBAPiYd2Q7b5h7ogGYZakD0itrTpQIJmMfvXb1/LtZrODbDPAU/HgctyL7FV\n",
              "XkNAkasb6MIM/Wuh6zbYYkJM/fxn2vckJfNK0PcjJlZ7zPg14m5KteB28dkzLPCvH5gRpsApLFza\n",
              "CmsvsDNEc4P/J6FNAK5hT4bu3KmrG7SgJQ523BZE+3wtvLmI9MM7UpnUbVTrqa+cPoyXaekiigGR\n",
              "LsO03zJa0JjVByZhljB7xEfqE9qUdBkr+W1NdeK8FZhVZxYakZ6Lo/8XdW5HOiL5Nsf39ZR0rVJO\n",
              "AUYRFvCDDI+gpWY8kPPnf4aDbKpcG8P+rKxPN+PCHasQ0MviKOzAiQP+wEbfFVy6k5AR+6Fw0Zms\n",
              "cG5zT6ZTP3rOWDFNf9S2u/Hy2wQe1dgVoQj52dGC7oP9BMa5H3bG2ljJVKXY0TrNKVzf+3LLumwu\n",
              "p/DW04sAA1sCn9Bdm28HFySoKVs3Ayhu1gNACUe3W88SBYTupDX2Qu7iFeon/Yeki4VYJMIQ5DrC\n",
              "4BoNnoTuZMH4EPszJtV9pISzaHXzR9WhIvFRqVIZpcnnVSuAimsZmrW0YxQq/SgCNqECdwAnWt3I\n",
              "x4euu0XC+b3LcV1B+GBWSIRb4Fw7pEChkJ4M98cpYir0va++qWqmNU2aoD+eS6GKQCuXqTQpBdvV\n",
              "48ADxeLTW19wzNx3m1oxk1WNTyKKEXaljOR4uLVaWZoDGBpN5BYwoBRQNRoiJfD/HaWRqNSn0p+7\n",
              "x7MxyiFWrdHAg2VYuf26LCS0oyMtGDEy9WrRidOodzro5JGLnH1uXf90EynUDIJc4lcmX3cWnTX7\n",
              "/N+ul+q4Fr6biFwaIMkepoTQrfxR2vwPB7knkBuNXp9Edc/ko+5yFzL4vzqtXZVFpLGEHfRCzPWy\n",
              "X/TPu7VHGf6bmaD97iHtltku3J1TMTwHGTHAnaASZ7mI/9s1s8Ha6Cx+NBfzTaAhSXEA6VDy2XKe\n",
              "TmEMc6xPCUD6/6HHG0bCmSk/sFPOfZBmcSFmePmAsb+H2nf0OO6FH5fwO2tnd26aJRGjND79qSCp\n",
              "Tm0lI0xdrtJOpdQBKP1wnnGDdKsWv3YLfkMa/DfdDaHKjTfrwju1LuiurmUAyizeh69x+DDd+FD3\n",
              "mpzuiH5Seoe1eCSpVIrAzeB/bwB/3j0rkbZlSIj3wwi3rn+ACC3iH900SD0EeI2u4BHp93spabxX\n",
              "BY8JxH/8yUZDAjNW1UPrwGf+UfESK9N0ikQuEpujUkkyTuHQhuwrsl361DqqXJu2EgNwCoOM0f70\n",
              "PyBRM11cBhtARSS5S/K++/YzpGPGDo9SNQwtGmR0C8QCRBasuUGspY2io3QYzNz+e0jkWzJWa9MO\n",
              "8HRztvN+ai1xQsMjzj69B4KqfSuRiYCzBv4UtpXdt/p5wSVfFtMo0BfMSAI/dO1N6W4ClbhE22/a\n",
              "RZeC6SwGhy8KucqQ6pjDh5vN3pBZ25qIPtV2+499Hqo8qz3fgRhj3eYYX9oNlXTlInd392aV7m2x\n",
              "EV1VaNq8nTc8Wp6nn9ifl9RsixmVHZLu0sIf7Kz2B6ObtubvNiZ+BCJuEU94QByxhNDQXChn5iVe\n",
              "CrL2N+RHFDiW3iR0sE7qAMNDJ34HCrrrU1NW+IYvOICwIPnnlaXzKxTdO9tU/cEjhpv3cthrjeGm\n",
              "q0kEbjpb+HDFiudMGVdn7/DIbX0f0w7A+3/7RKMA1s9yIFT82c9NeoAxbIbJMEiexth0lWMuEmcC\n",
              "aMA8ROzMgD3NLx57GHaHgXrIEbj+C6RecavskqASNrWGnpYkeN1pOIpTOHu4HpHIo8ar/FZFoWnZ\n",
              "sRgdJxscVz2nBLh7RVuUPJl4ocWiJ7BldiQTASdb3z6H42q3K/OSTr95NAoheW06T88yA5dIJvEw\n",
              "x09Jn1PMndxUn54gUnf1u8kYIWYM/Puskvzbx73iqWIWcdGcheBBn1H0+uqCtskb7b2oZzFAcrhW\n",
              "qUedbvCTP5ixbc3QlQBCvpPOPtuV4WvLKhAs5CU1Zi3+8n50VITT5/DJMlu3Un3X47dbRKCAEVJQ\n",
              "v3XUHwmuF4qTbA6PHzD7jNXdwLttOGqOpjxwojOwJ6EWfqQJynE5Oqf/fwOBts+p+owyIOExlMDl\n",
              "uk9sp5Xux5oTa93Wxd1EiGzfP+kCG8go95/AGWjtwNLa6PMlhonDz//sZt5Ds1qasfovvJ99fbX/\n",
              "C2/QxiKY5lOcp80Zc7G6Fdz7Kl0MbkF9cQj2hAX1/TgQpF5Ka3NjOMSIqNSqJw0uXpY9A7+cY6nl\n",
              "MeQphqejjy0Yz8dDUN/FAiGjmGSErgTW4t2zMyIoOZBBCt+EFjOMRlMxN+nUZqqVZYGoe+n9us2/\n",
              "eCOwtQfHJNxfQGO8VOqyc2dcNq2Ki/RoJVA1F+4c6eaulRg0LdJ1UC6gpAlPZJSwmiq/+GKYsoKv\n",
              "HzW26TocYDFV/PNwBsGwvwbafjW+Pvk2gulBuP2HIx6xks+QiTjkiN+0m5MwpVBwZ+J7MU+dT/V0\n",
              "8NwdqfxosGdUYF5EE+AgAV5kHhDMoOcs1OTMJOYDGTjlGY/qRFdDjLMKX9QnXto53Zg+EHYz4FTo\n",
              "W6hdtxAMNkoXMUsqDbue5hOJJQKxxPjhn7RkmWHssOBBcp4VKfkjsj8QWc6zeBhP+mbG+YJ0bE4G\n",
              "lzE3FUt9mEv0ArhxhQVdA/hyEVuUrAko7O9yRBoH+eW1T1Id4y1qqKLMFzZbMYicPw3aojXseZ0c\n",
              "PgR1DVJeM6P5H9W+csFSZVYINZCMVDdI/nSnX42cyuRmGV5ASRVkOvuFT85Mh7ILS0koz3/4GjTk\n",
              "a+jiaCVtiRKgKV6Se6jpgeI+EnFzkzRiFsAELvNVIpDpYp7B60pUqHHH0kEcHsVR7KZ5lfVpA9sf\n",
              "rlEYyz1oLAGldhO/N+aW5XUi9s1pmw0k5/Dw3+4DgeqKZfThjuaLSdMaV2mxzOHytsyktsr0fY0Q\n",
              "/NoodjbQoVqd7Y1Pg/Ko7LY0F9md9cNr2maQwFZfUZeIyit2eRIXt/lL/ktq51m50PY0dvtRZZ4g\n",
              "sXESyrmpq19aiZmLRpkuKK1dsk21yt/7pubpYtrup1Q4nAiwrw1TTO5NQLuB/V/WuyvXXqtZedPM\n",
              "EKry1pbCLE9SpsVY9B2PgKZsSDQBbHaIIF+sazfbED3AZ8y9LI5hxoKEbcUEUuitS1llY60uIwM8\n",
              "gHDaZ7rMr3MVf84eX4akucZPVqOzVIB0UnY309tGukhERtYYcSqiJ0JWdk25KoS/uhPvg+42q52K\n",
              "m9TKyHz1DQ13uTUfZqNpEXrR0a5YJFyt4nk2WmOSy7KbapIR1Gtjnh6URFqy0geJevEqOeDl+fAA\n",
              "1RwqMkKJybAGTJnznIgNCqULIPinBPN4Scx1qPt3rG0mK3HI5+cahJdgl6PFXtUgdrz958eieEiW\n",
              "wS71vG4qa+8aPuH4Z62dkmQ9gaW6qsG7rf6+6kXTM3zwEv/8RinylYeIUrRwL8k5EI7SpUP+AAAM\n",
              "I5bwCcwIyuHnA5S8VmYxZlpAv2/AoI/38+FudZSzYvmEQ5Jdsm2Teahiy2eq2Tg5Dyrx6qjr4Scc\n",
              "ki63atPj8BMqKSSbJ6VqfQmksExZEb5LjGIDXRrZrROhHxtuM3W8cHYms7I30pJrg5815tZsd8ho\n",
              "DBPJdIDLvYoE6DXQFSfJ3VJPW5Wq9A5MDSTpYs3fCjMPlVsr6Pf8iufAMmYfiCnEaTUZ1Y1uVV6D\n",
              "ylK0/A7lWgCeCoGgYvJV1g9cL5d9Ni1QebCwSJxQ9yZGf1eFyUKpFvjnXjjiju1/8fmhDY4K7Ven\n",
              "U9uJRZmpEZZ0hvRdxjxRelvgRnB0a+KFeJm8WKyEypTvbNq2xkq7ZXBn262G0x0ZCxAuZ9gSk855\n",
              "FsQlsqyX1qxTsH192VnyOWlOFp7ruihpXuLLH9VxH+EAAAFxQZokbEP//qm0B/1oAvvZ/ZCPTYBJ\n",
              "59eiLRwVqW85ViQZ4FntRYZHdxDlDNrOpNj/+DvxpXz8ubiVPOw1Uc/Pm0YhFeZQJ606Oh/BhMcF\n",
              "eIYvvlqcr9mw0391YzqXP1llc7om8xRwSLy1TLACLEyG+1AmA3l5YBMrSPk9a6zJFdzbODv/A2O8\n",
              "cBhpMoX84qgMFrE0VAbgC/P2D6lWBTSY1/QkMJTJH47/SdM51RmoArMYHsxfshU15lOh1CaZjTn+\n",
              "svFJi3zn0LMT91vB2qZ/iRpwuqJqTB+RCRaBU/v3lVKNGWl/adiQENVyOE+9Qq+A4MqbI2HyHyJA\n",
              "6/uUvhnlfD/5ajTsqeWAMDMIY/NC73A+ArZokbKESGXy3Ps5I4jCJLSImE+GlbmD2qYWuhQntAk6\n",
              "Qis+3B036FjgHBqkX8mdV308zNnPVNlg5wanm7zo4w4sTiAKEJ025LyIDiusy2ecm8vKm3tJDLKq\n",
              "uIKvn5ggAAAAS0GeQniGfwGBlA6xw3D9ur9SUFAAHaeypAtFv4AADFPHhAALMC/YV9orABaNk8J9\n",
              "UDN9SqEaAHMrdm+iDIErd+X9rwgSNcbgX/TrMQAAADsBnmF0Qv8BSEiy9B4mfNnO8m4gAAADART9\n",
              "aMsAQ0C1RSYXHYMBxp2ImRr8rEG799PxIU9B1PtODmy9EAAAADABnmNqQv8CAdjp7vazLPmINaug\n",
              "Ab2084AAwVHtxVSPetGfG94mK8FU401dCWJZb9UAAACGQZpoSahBaJlMCH///qmWBx8K2vD1BNHZ\n",
              "sOI0sPEAsXuAGzntO1YAD5M224AHRRErpwGoU70tFTEDGKKD6QQASsZfi6oqjXdaZmw0yesuUTDt\n",
              "EVqFD/YG2HRclrqGTZFMfBUfaSLyRTvGTFkPL7d6tpQK/Z91WEz1yysfRZqOVZxjkmi1wokAAABA\n",
              "QZ6GRREsM/8BgPAfV3+dBpvncYAWsNd98kfgACOf/LQAWr6mP4WDiGOZWLGvmNswDtvxPFVNnuFk\n",
              "bm++w/K2gQAAADYBnqV0Qv8CAM5+EHaT50ZBqcgAQBaecAAYXo0cAH4sSF7v8yOZkmyZVviZAOUJ\n",
              "t+hNAvHa+UkAAAAsAZ6nakL/AAADASn0nIEAJq+9GADl3IDnavq8Grady4Lx+0Jh8RxaMXYmfeIA\n",
              "AAB3QZqsSahBbJlMCH///qmWAAADAPmdjcAmvyJXTyQwFaZWTPQKoMjtxQEL9aa9yLLOYyjRXF/+\n",
              "UWQnrUVXdy4gZZsgY/u1m1esHBaMPxywpkVt55+BLHRmZt8Piz/uHWKh4+vQF5EPUjO8I9dOdz8w\n",
              "CmlLEFJ+k7kAAAAnQZ7KRRUsM/8AtdNgvxwAOA/cyVgxdU98G+qiIST8jlq+4+uppxt5AAAAJwGe\n",
              "6XRC/wAAAwEsvevcAJaG6gEaHsU7PItFCG6NMmy0IQ+r95wA+AAAABwBnutqQv8AAAMBJc7GPbjS\n",
              "rgvvjQXmt/9pb4KAAAAAekGa8EmoQWyZTAh///6plgAAAwD1VnOWKxMAHHJUx6IbYmYPWhuShOLb\n",
              "i+BxmWcTg+mX4rJUpR6sxAThyqGdX4A4LqYOGmzsK/n8rQVjRqX9sSHTI5Kx0atnKZH0TWdpEHOl\n",
              "IyCipUhOI/a7k6X3GFFa8mPo0fhabE3pAAAANkGfDkUVLDP/ALXTYL8cADgPbLpnuAAtzMfntxF9\n",
              "43CTQEC0u1xXazq5Af3OHbE+jUdMQE8CdwAAACcBny10Qv8AAAMCoWXjjNsAJpotAMnvLw+6v7hO\n",
              "fsKrVb5JzkVycoEAAAAeAZ8vakL/AAADAqGReRWDoAJ20CfivlS6l7WYlpiwAAAAeEGbNEmoQWyZ\n",
              "TAh///6plgAAAwIwe20BjfHl5rNAzP+k9+WnKxXgrCrh7hqseCnxLwhnOh2JmSVPaLx5I6kGpT2u\n",
              "qd8/mH/T8bNIaV1nVnZA1OGlHyDcm7ggJ+jocBvwD//94O/2GHz4506RnJUO3w0rGK/ea19U/AAA\n",
              "AChBn1JFFSwz/wC102C/HAA4Iz8aAGEj/KMBVS2NOAR98kw3OR1ouW55AAAAIQGfcXRC/wAAAwKY\n",
              "HaRzkI+4K2AAJl/TlOZn9TUYR/aCwAAAACABn3NqQv8AAAMCoZE++KNpACZbMlIDSaf9Tv2pP2di\n",
              "gAAAAIZBm3hJqEFsmUwIf//+qZYAAAMCMHzVAqHiC7FYVSMdOQVZqhlNdKm8tgCbO/wkARuNtKN2\n",
              "3bbAbgDOgQ/jrezfF97gfpv9levViu8NPe8qsZAvJgp0/0fO6ix5OG+ZXQ9ueDCMbVUJgEKscqGJ\n",
              "NAoaP1m5gXH7dWfHXa++/LrcZbm6O8A9vwAAAChBn5ZFFSwz/wC102C/HAA4I6vkVp3icAFdsuEC\n",
              "v+Gqwvrs6wzXvUfAAAAAFgGftXRC/wAAAwKPZg8k0PbVYPTg5kEAAAAqAZ+3akL/AAADAo+JZDl5\n",
              "oAbmdpIMLddOu7H1qNmEFigz8YKvFhwn9RLpAAAAekGbvEmoQWyZTAh///6plgAAAwIhqGjAsNQB\n",
              "Qbalwb9IEzIeJgNR13xW9QZ6jNmUosfyhQwy3U3wmXeX5Y5+HIz24OJMgVascSjH7lq9ReyVZeD+\n",
              "iu170pggU/pWC+x/oTTXHy0a0uabWUIZ8e7ZaWpzh1KckO3/eLFgAAAAHkGf2kUVLDP/ALXTYL8c\n",
              "ADginAErr5dVVR0mF2AiBQAAAB4Bn/l0Qv8AAAMCj3UjQA3WpQdNbUBCVgVLOJMOGkAAAAAeAZ/7\n",
              "akL/AAADAoY7XLACWSKYYNDYdKxCz4C93bOBAAAAfUGb/0moQWyZTAh///6plgAAAwIggf8Atd2V\n",
              "533ljFFETFNBHGNBe5LgN2b3odZd/iV3KH0QA6lKzA0O9pqCGvsghZSGrLavLEh7f2NbtSacDblL\n",
              "9BSu3nl/zLFjWolhrVyny2qMmm/yBk8jcDqCe9JBDrWz0UvrL0HlynFxAAAAJ0GeHUUVLDP/ALXT\n",
              "YL8cADgivMggAfRV/fZiCz4uikGAi5iZkv/NeAAAABUBnj5qQv8AAAMCjrvx+d1PQgQ61KAAAAB8\n",
              "QZojSahBbJlMCH///qmWAAADAiB3fABr9B6Cv6jt/9HN+FziEjtmFpxrLYTn0w9lnD6i+yYRQwwk\n",
              "3jlQL0KoZhmDJPXzLmxaQpTiafKkjSPGZO4uxjI/WHlgo5SvUn7hh2fDZ/ykyphJoO28JkNiz/Zj\n",
              "fu8Pj/m0eZlrOQAAADBBnkFFFSwz/wC102C/HAA4IZSHPgAJZOnKJKOadivdo0Wla7QbRia7uvcF\n",
              "M8/JKYAAAAAgAZ5gdEL/AAAFrsvAjuue2wA10ZU+DTS3W7L6UIz9X5MAAAAdAZ5iakL/AAAFrYa4\n",
              "uRAC1uZqD5cp0i+g3sfFGkAAAABYQZpkSahBbJlMCH///qmWAAADAhCIngC/3ZXmjadFNxFzyVhD\n",
              "Oi4fSpCPWMEK4ewA6DCzeWmHmYTW8yHOMqKIW5htr8ZBsp18dJz5dk2Y0J24ioQ3UqWEEQAAAKRB\n",
              "mohJ4QpSZTAh//6plgAABMeV/4J2+Ev8iV33kMOGHxqwEc+HjUys1D87xDjSNiT7wFh58lYiI+Wz\n",
              "0uc4qUpUL/bS2biOceXPxhgZLMwHTaKQTA+fbIuq1LHcK76cEUK2kg0NKPyldw00dPgSHcEhZtIF\n",
              "u83j62oVYjidqyiuJEhZTVtS3UW2Bi9iDaU1WFwP9ja7Yoj0SrOf8fadsV0ZGKk54QAAAC9BnqZF\n",
              "NEwz/wC1yuKPl9FIHFZ9P1pUfyABOO3gpWBPiysU2P2Zmw9egQ50Z/566QAAAB0BnsV0Qv8AAAWu\n",
              "y6HpawAJ1AvslPaWt6qhon43gwAAACcBnsdqQv8AAAWvIpDxSN8AH4tahZ7iNMDgFJgZcJtDPFoF\n",
              "E5/IMEAAAABgQZrMSahBaJlMCH///qmWAAAEwPmqChWES7JfW/20HA+TDaUF3zdcr+Su47n6EiTw\n",
              "EMGKPy2TC20UDyMCHJO81YAtBqQ6J4N5Ha9uzWbmmJ4cdEIMrkq4xnbRoaFZ2EKgAAAAJkGe6kUR\n",
              "LDP/ALXTYL8cADhNV8itBZicARIGg+CR9HGp62836r2BAAAAIQGfCXRC/wAABa0gt3Pm9wJgAhS7\n",
              "t5I308RYepVSw/8rKwAAAB4BnwtqQv8AAAWKsrjQA3NaiYYiC2mJENb1kv6aJ4AAAABNQZsPSahB\n",
              "bJlMCH///qmWAAAEoF+htkH2L8WHAF9qGNyYnnUFZcqLRUx104bEtIUQWGOBs/wAx6Lw87TjRbYp\n",
              "MZmPStAxQMt8bpLy3qkAAAAjQZ8tRRUsM/8AtdNgvxwAOErW8tIACbIA/yt8HfKo66zPfc8AAAAf\n",
              "AZ9OakL/AAAFhy0jgAJXNv7WYLKJhKz7ju2dr/wbBwAAAIVBm1NJqEFsmUwIf//+qZYAAApPY2sI\n",
              "ldzyUXw4ESXh2ElDz+R60Al7/BNJZ6eArckVbDDZiUjIyFbfYUH7oVGcrKbuXlDMI6QddKKCZcE/\n",
              "s3gFN7l2DNoIApgy+NtvB1IgeD4WFPblVfDMVTOaYivGzmxp3j3UytEZLhmxkOnXnBJlY94gAAAA\n",
              "MkGfcUUVLDP/ALXTYL8cADioWbfFXHABcXU+/IU6lE8ZWS++KVb9Mazm8TKp053N/KgwAAAAIgGf\n",
              "kHRC/wAADJNlHd3wwATtz2jOykd5/w3ZCFvoBlfxRpEAAAAWAZ+SakL/AAAMjomobmV+zRIC0ShM\n",
              "kAAAAG9Bm5dJqEFsmUwId//+qZYAAApShZW2FuVAKHKOZmK+bZ64iI5w0NiMN2mGeJ8gpQ6Qll2r\n",
              "TysL++qPq57FF2S/cpLyN1iTyB1s8hF3q/RW8RAV/JOjoJK2znwNHHryyNc5d5GbB2uFQxQ0vorD\n",
              "8kAAAAAbQZ+1RRUsM/8AtdNgvxwAOKhRWdbqMzLOitaBAAAAHwGf1HRC/wAADD//TMAIwJqRyLA3\n",
              "tEfnT6zHYUAL54AAAAAYAZ/WakL/AAAMPHcBmAC4vDNRrachdtUjAAAAP0Gb2EmoQWyZTAh///6p\n",
              "lgAACk1wT94v6vODwVGIBCOLTTGBMMN2n1WIIDsj7mONtNaedOa7hlPw3p0Xahu4EQAAAItBm/tJ\n",
              "4QpSZTAh//6plgAACk13z7LgEkrzXTSW+riSlQUYI5MUlU24/+cISyYixJkPQLpc6UPSCxRx8AbV\n",
              "VrsaTNTby5pvq+0gJJ78XdP+JoMX34FKLyRaRzjMwaDb7XKA9LxeM+rNeXRowbUf/2//TlmSTUT3\n",
              "UyNhhd+bbvbBHOduqsZvOGQffw48AAAAKkGeGUU0TDP/ALXK4o+X0Ug8s2bv0gBGCaMz7UP6i+p8\n",
              "kzgThdxwDkT94QAAAB0BnjpqQv8AAAVlvQUAJUpOfFg0ntsliigRh7vWpQAAAIBBmj9JqEFomUwI\n",
              "f//+qZYAAApPTbQBQbapFXYqKSjGByNvtmnNfGNxtDJSn3u+82DB9033ixRXcJ0vsc2ttPZKAaCp\n",
              "Nt4SUOCptL3UgBsf08G8B+l/MmrDLaceLBov3R49G37hyWfOF3ajmS4zOBuK4xxw/4sdzXqjgrUK\n",
              "/6RC8QAAAB1Bnl1FESwz/wC102C/HAA4qApglsdkKOFZwcy1uwAAAB0Bnnx0Qv8AAAw/ei4gPQAR\n",
              "2quxklR7fTuSP8YngAAAACMBnn5qQv8AAAv7HmADbkMBOeOAzJ3tUtMUn6aqle46FlXgTAAAAEhB\n",
              "mmFJqEFsmUwUTD///qmWAAAKEXeW8bUUoHAF/QEsF+Oxs0oGm1Pr2UdpDRFy/nXyPV4P/v3OGLp4\n",
              "1HenqsLtz74l0hrUMHEAAAAcAZ6AakL/APLEXqw8vp9AAlQJ0gEBzLkkWBpVwAAAADRBmoNJ4QpS\n",
              "ZTBSw//+qZYAAAoLDq3gD0AOhqzHq/r7Qm/JOPpGdRwfCSSvJpFAl0WTEMHBAAAAGgGeompC/wAA\n",
              "C+t6RwAD90JMhibGewq3Ub70AAAAUEGapUnhDomUwUTD//6plgAACgdn/AF6BTrB3oGeNDSxP1Yo\n",
              "+/3EbBxH/pggRCh6P5b3uFn1uvyFof2wxEbRmJ1Jo/96Kpbx6rMATpBHVhg5AAAAGwGexGpC/wAA\n",
              "C/DmrABOGIIdSF79OdhZ31a+YQAAAIRBmslJ4Q8mUwIf//6plgAAFt6mrB3ZXnfez20g2QN4HPZz\n",
              "YQpgAKcFt8R4FdzPKQor3TuUt+Q3pBFMNsp36lOq7TWoqEAFks+uEuN2oSL5gftOBuTjc4/99GXz\n",
              "HfFFNQ7svoNwxEPbaxqB8PHX49aU0aGmEPkddCS/Rl4FbD/8DMQ5Dh8AAAAgQZ7nRRE8M/8Ao5su\n",
              "Y5BYInjDm2AAOgSnm0glgjX3AWEAAAAUAZ8GdEL/AAAa/vfWNzT2MV5WLyAAAAAbAZ8IakL/AAAa\n",
              "XCWN/48wAcTLS7GUBX53UznzAAAAW0GbC0moQWiZTBTw//6plgAAFmLxRLS6xp8gEI0y4Ysn2O+O\n",
              "3788aUOsgmLtn+gj3ei9yiB2uQxoFHG5RGcpycz+S0P+tZp8igVMtYmtKUcR7iMfYUogv/auO6EA\n",
              "AAAZAZ8qakL/AAAaDKSt7NAC1uLDUY+9pvBi2AAAAFFBmy9J4QpSZTAh//6plgAAFloAPIuVHAFY\n",
              "j5Ue26iV2kd0+GyZ9x18I9Q86JMC5Uf5HVlLoYGGvGzlolDGNvCms0Wf2vC9IcLuApd/sD7d1ZQA\n",
              "AAAXQZ9NRTRMM/8Ao5suY4+xpfnfm3C+vgsAAAAbAZ9sdEL/AAAaVou0sALcIFoNnrswDFv7ddBP\n",
              "AAAAGwGfbmpC/wAAGmHNWACcNyWQuWus+tfHgZ4qoQAAALtBm3NJqEFomUwIf//+qZYAADGbP/gp\n",
              "K3BXWqmPAj7c0cc2WthVji+2bbAbmY/fVbR7Z3fNP2X4VzWp08J0Jy1Dv5oZb8B4pZGjPhquNISn\n",
              "MDY5S5ejaEbklM9/bVFlvQIP9ot2Ce7bNoz5WCWB7IDF/xkWg6rOxlmsNWRJqq1MRPdaaPo6w2Dd\n",
              "WEsnc2fNTeoav68orrBSdvsTNA88/coQIqFbFhozRbpoEFyYN065dGCOyTyHYU9eZ+mAAAAAI0Gf\n",
              "kUURLDP/AKObLmOjsF6udhI1H706ADb0FMvuVvZ7rhpAAAAAFAGfsHRC/wAAOfzNPKYucfgJgIgJ\n",
              "AAAAFwGfsmpC/wAAGcGXRAC3jZiGrAVueuf4AAAAXkGbtUmoQWyZTBRMP//+qZYAABW+slgEET5j\n",
              "woI4N0/QflYc5OiUoeQ0f6vQqBgOmnqg0gXmfGuMCQpeZi8yUO3w5MQWNCyJdsDsaea39eMQSmdf\n",
              "2iz9k4Zz8NvIhakAAAAdAZ/UakL/AAAZ1KkAE4sCME9Hyh02i/PGKEugxlEAAABcQZvZSeEKUmUw\n",
              "If/+qZYAABXGHlOL2oA5d05q5kNH7j/2Qfb/0WcYwiGwrmWv1XcOeiARafMnaaf8QgKB0c9+x+D9\n",
              "yf//oHkqZZm/Tubq+bhikasYSYuIUsIrj0gAAAAWQZ/3RTRMM/8Ao5suY49bnYY+3rQATQAAABgB\n",
              "nhZ0Qv8AABm/QVgA+EAQjB2Ti5qDGUEAAAAaAZ4YakL/AAAZwc1YAJ29A7CMvstrvwJPFfAAAABM\n",
              "QZobSahBaJlMFPD//qmWAAAVvs/4AvRQJkfZYJGeAPx871Diebm7rx99WB11k3RJxoVfvS3nvhnb\n",
              "cXBUmB6kFS8m/5mutEJ3FpCpgQAAAB4BnjpqQv8AABnAvyTuoAgPPC0y1HFXz2QxJG9jK40AAABv\n",
              "QZo9SeEKUmUwUsP//qmWAAAwEWryR3oBR8+0d7ZmsOOxWj9cJPFqk8VejRX3Db9d8rh4plTTzR1u\n",
              "jft/PeyfE+7KOL7+xL39bKDuk2hCFJM9FXiTwbLZQl+yuK1uGZk7z0QA6c85BTFE/4e5SFz5AAAA\n",
              "GQGeXGpC/wAAOJ8ZvcdABwd2oEVl034V7iMAAABiQZpBSeEOiZTAh3/+qZYAADAsO2MYYWz84BMU\n",
              "tK407MngNsrFF59EDXQtpBDhSxGde13cwGTkUtKLC7JlSlnD+hR9dfhxuAFs8D2mVKPw7+H4xa4k\n",
              "hp2QhYvRs8XSTu77umAAAAAcQZ5/RRU8M/8Ao5suY6KhGfNR/gAiPeiNILLccAAAAB8Bnp50Qv8A\n",
              "ADfoWonYAbrnrjCW39gcJ7UKFYKdt4jBAAAAGQGegGpC/wAAOIpCGMAFq8K30duCGj3TuOAAAABH\n",
              "QZqDSahBaJlMFPD//qmWAAAwI68t5e4A5Vj9jJsGcgJO0Zg6n/YgZ2YDCTJZc62HWLRnCLJj8H1Q\n",
              "RqISodBVEDVinCVw3oEAAAAcAZ6iakL/AAA4ZBWywAt34E+ehsRZ8mdIaLXPDwAAAIFBmqZJ4QpS\n",
              "ZTAh3/6plgAAarZ/zBBQmA/kIlcaq8TV2tqaMn/W58Cx8JDp8q3+ed1SKUNlvCUFujuKAQPW3eqg\n",
              "5PMn2o6gPTVX2ikRGxK/j141neNCwMmvYdAuvZBwWu+PxeRxRb204aZvjDSqesdpAJHAQ39No3to\n",
              "hak11qxDp80AAAAhQZ7ERTRMM/8Ao5suY81vh65K73pYpOgBDqDzsP80DcqBAAAAHQGe5WpC/wAA\n",
              "fGIuqmXzZRw6ADNnDPJ3DzscvtgZAAAAUEGa6EmoQWiZTBTw7/6plgAAakGZgcc5Ms4Cex5qOySZ\n",
              "YBmM+aGq30ohVeEiBmicbhQs/70XKnYbm+2fSCXzIr1GCutPhOuJ3nqx3YjO7Cn/AAAAGQGfB2pC\n",
              "/wAAfFc1zQBExtKhCP+S1rR3vZwAAACvQZsJSeEKUmUwIf/+qZYAAGomyWAhVzEEOxiZ57SOhONm\n",
              "lpvD+KXkugzIH5ksFeolwtPPBKojKYLcBduJrMumfMjQf6UicxHUuZ542KH96vqqPD/03H+2yjBm\n",
              "l7oZIGzip+DgFEkbLfWf9UMODF1vNRonH018cOto5ObngfiNygh77Nd5l9bto8UHc9FJVyplDZkq\n",
              "p/DxthUZPfyB6fqwLxvH3/zg9jRKMmKgQHaNgAAAAGNBmytJ4Q6JlMFNEw///qmWAABqJe+AE1cS\n",
              "FocVimqSo2ud/h6zx/JwMxU2NuB5ddkLcG1HPDdXykZVCTKLlqHujBep6awtMTNRomM4JZTSbEdx\n",
              "aE8GbQtgjH52BTcMAfPaUWUAAAAYAZ9KakL/AAA3QoyAA+AEwcguIIth6yKYAAAAWkGbTUnhDyZT\n",
              "BTw///6plgAALt2f8AgihObuO/2H5rPgBTMiMpv31SCIpIFYegvc+SCgYMblS9yClijQV+23G5+H\n",
              "R4DPt5Y/DVx5eOZcO/VrJCEKHGFx9WRLaAAAAB0Bn2xqQv8AADdDmrABNTtj5mbmTvCHgEOrloKG\n",
              "wQAAAI1Bm3FJ4Q8mUwIf//6plgAAaBKOIs6dzAFdhYDNe8m7wAQRz5B2XipjdoXtocW3jwxIhQJv\n",
              "AlLpFltyGft1EVMwJvYaA62TL0D15PJOoTGt/guEnsyY9d8rZyRre3uoHOoHn9f1p10SnXJPujUL\n",
              "7DsjB5QACVrgCNFdv/xMW9VxHCiliQKh8G7fFtMdpGEAAAAmQZ+PRRE8M/8Ao5suY8ttNukwlAII\n",
              "+6GIJuoxzajRYudTjcR3R8EAAAAiAZ+udEL/AAB5bOWcAK+ZYwE3VSOoZ+QB0usJGuWjwri44AAA\n",
              "ACQBn7BqQv8AAHmBoRADdeos4mY1vKWtERaSA5ytu/4aI/AoB3QAAACDQZu1SahBaJlMCH///qmW\n",
              "AABnpslgEI+PEl+0qX5tWhMol5UNFvb3UPN5le4imhjwMG+aUeQTyaE/mMM6IpmYZaC7y9J6CKWQ\n",
              "lz+UGMe62rEC8TEfYjW2pGyJ3uFHqA92trxlm8HtrQ0emUHnfWtacXXGlsABmulKL+j39EPm+Ug7\n",
              "SMEAAAAYQZ/TRREsM/8Ao5suY8tCNOPZRoO6XaGAAAAAEQGf8nRC/wAAeU3uvg7M49xAAAAAHQGf\n",
              "9GpC/wAAeYBKwAkhlUwT4TCzNwfSii8exDxhAAAAT0Gb90moQWyZTBRMP//+qZYAAGenP+AQj5Er\n",
              "xRM0NA5iIjwdBBEKNFQLmKa5Pzl8xydh8gwcYro6/ytGN8rJxR0L1TkVbqRhSI9STZhCLKAAAAAf\n",
              "AZ4WakL/AAB5ghLACavGwFJSEVPrBZyUmOSB7D/xYQAAAG1BmhtJ4QpSZTAh//6plgAA5Oz/4KSt\n",
              "wnKISu/Ebzu3EVd5IFLbgJMxBprL8naWn0WKjlhWFOku/DRzAeLJRkdS8FRzspnt+68bR2obfeTp\n",
              "xr4GaK7oQIv0p2enbLjG5xkZ4evYaEWjsO+0MNSBAAAAJUGeOUU0TDP/AKObLmQoQp1cpb0NF1KC\n",
              "mRAAixMJ+mCW4r9owhwAAAAhAZ5YdEL/AAEN37yjMfDogAAg2JDnicGSFoY8iHiiMSghAAAAGwGe\n",
              "WmpC/wABDZ1qBNzbAC1uaW2ACKaYwTdTQAAAAIJBml9JqEFomUwIf//+qZYAAOP8IXUwIpPC1AFB\n",
              "hDa7YGiIonG1Q+Lb86UkmMACyYuR9kwIlvm43f5QZVWfTqA2ABn2tzu7mmb5nQey9wfHrpg0d7He\n",
              "e+DXhTxtdkj1066ZMAuNe3bBxlVKbc2V7arq7Vqnmo/yiqE33JzPMwhW0NV9AAAAIEGefUURLDP/\n",
              "AKObLmQn3GnJM/4AG5gUjZfaH6Jf27HjAAAAEgGenHRC/wABFd7SyUfLfyDRgAAAABsBnp5qQv8A\n",
              "ARWcksq9ACVKUX+Ioem1t4HgbcAAAADKQZqDSahBbJlMCH///qmWAADkcsldXJqAAmKZF8IdIZ1A\n",
              "HfvdT7ELaX8L4PROq0teMTbwR42OHwiezR3AsopB9nB38AiqyHwGbttqwZUIerI9+HhHxpSqbNkW\n",
              "icl7O/gff/NXbyoEvbm86QkuwabKQ/Mo0vTje44dJ2CUPj+7ZLux39dvVKxqqejvMszQUSVr8xom\n",
              "+QjCVmnVla2f8WfjoJ8zxYSieljsYTqjKi41GJAEvg/NDCY3OB2ABwoCR60r3UjEpyLD9IitgQAA\n",
              "AB1BnqFFFSwz/wCjmy5kKB4FjhE6AD2QATz7nwz5gAAAABwBnsB0Qv8AAQv+ZkUO8ZgAuozGW9SE\n",
              "AJCXjAKrAAAAGAGewmpC/wAAdAVKOAFUNSZLl4aBS9BabgAAAGJBmsVJqEFsmUwUTD///qmWAADe\n",
              "TiUoBQbanVgYlhvVS9Q6YBXqgNzMCxiucmrhRilmIWLRYH+wNAN4N5Ck4jwBSfdlZsuGHQADAOtP\n",
              "YHBOs0Mq/JDYA5cFIPN3lBGvx5QqYQAAAB4BnuRqQv8AAQWlEaAK36kjud2du+uN/0c5GAb2USsA\n",
              "AACWQZrpSeEKUmUwIf/+qZYAAN9d29MxXxJD2AL77K//w1DImjD5mQMiMjbBhWYCgxHzHaDmoDKD\n",
              "DHZOjySn2o1Pd+3RVOebDOSHkAB4rX8MFJhhw/EHGkaQAmh3lj/7E1c2ACLvQdWrE/dVR5jwKv3v\n",
              "CZi2BrJM3A+ryIZTXbAGAmdGWtbR+yAny9Q4iFP+ZEKwdl0rlGVBAAAAH0GfB0U0TDP/AKObLmQj\n",
              "XGnGT/gAbmeDGXCglAqg6lcAAAAbAZ8mdEL/AAEEKRF2wAsE8SPSwvkmCFMXs46YAAAAIQGfKGpC\n",
              "/wABBGpuKgBGcDheB4A16glhExhqkxXtj+gtoAAAAIRBmy1JqEFomUwIf//+qZYAAer+XqMY5vga\n",
              "lc8GiJzuGX2dIIbXZXnbXZ2NR9auZJkjHvU6xlSE7G9y62hf+ijIBGvq82pOcmrN6+c5/v63y/O5\n",
              "kMPevud+ZbhZwHWpJqiyBmxnfLtcgn4FgAjSgiLDO8fDf+wNmCjccbyk8WEOB3HwYsEAAAAfQZ9L\n",
              "RREsM/8Ao5suZCOdvxPFwDUrtVTiuCcnhX/GtAAAACIBn2p0Qv8AAQWQQsAJq8FajTbCh1JDjn4E\n",
              "nyZ0Yb3maC2gAAAAHAGfbGpC/wAA/d4XbADVSqSECGdizYDcxtQWRcEAAACCQZtxSahBbJlMCH//\n",
              "/qmWAAHn52g4EoUKF4owArVeXboumfTSAuLKN3ckf2009sB4CPw2RTuPmYs395Ks05Lg5PvEu0zd\n",
              "XSkBqn2Nadkue2arpqbiWX+gkQyg+clvP7hUzbv+omiHS9oGXNJa/xUhY6CEU1LYJkMnoGGmFJ5w\n",
              "tj4MWQAAAB1Bn49FFSwz/wCjmy5k63pMYo9wA3XWyRWpIE0E3QAAABgBn650Qv8AAkQK2EQBW8cI\n",
              "rInI416TcmYAAAAZAZ+wakL/AAJD0QnZZjABrAP6r0isugsPSAAAAFNBm7NJqEFsmUwUTD///qmW\n",
              "AAHp5FZTumoA54suIvm67oBwHN/gbS/4CbCrhY3lS7UIC4BPnCKoH9/QnigkLy4THMi8oe9S7zHz\n",
              "+tte3hA8I26B8wAAAB0Bn9JqQv8AAktMCwAt41a6PPtloO4ufkGda/APCAAAALNBm9dJ4QpSZTAh\n",
              "//6plgAER5X/oDjxoBajWPP2RLmVz9kVGv7D5tsBuZj97nsbsr2f8RQsm9m+cy+Zg0rv5jcbCw9q\n",
              "jB22x2chObKU5r0ZY76X6/NarBsLxWzkk7K6bY/eifH75X7R79qS3NGPeV0c7Adsw2RbKIHfJa2l\n",
              "FM43mhk4F5w6H7iEXMy1w+ExD/kZ5kLNptQ8VktEsoRvCNhLLE0rcSjHIz1PwOy7NekGd4WQ4AAA\n",
              "ACpBn/VFNEwz/wCjmy5mpHVrqQ/QcAbetTTleYWX608ZLtvwvfp0zL3wgYEAAAAdAZ4UdEL/AAUe\n",
              "zB5JX2gABL6UJNQs29LNf8GIQcAAAAAkAZ4WakL/AAUdsWcALBRb3zheXCfQnejPxBfTTz66AHrk\n",
              "gKSBAAAAi0GaGUmoQWiZTBTw//6plgAERYccA4OYCCgqTXewX+LNHLpb5Hz0pvexdZOPXAPv5kw+\n",
              "tsBuZdcjpq48/Wlfpi9smGfSK2h3z/ZHBfsE6F/PZHFHgG9LPZl/I1hDhE44sH2eD/Dy7vMAV25q\n",
              "stGlBK5D3Z9YTIouvZOIBDxAF93wJOU+8R7Vf9cmB60AAAAiAZ44akL/AAUdsm2AGyU62yRNNzbe\n",
              "7pQvNxgCmIwHn8DHgAAAAJBBmj1J4QpSZTAh//6plgAB3T2DgC/3ZXpEMbt8ZKxCcrIVw5Rzsw0w\n",
              "gLRnB0EDhDrtnmp8fj86M47IlOuoctouuF3gHrkcYyNTvihBlEo0X4PaWs/F0QbC9FQ5PKAfWnhu\n",
              "pUi3pZnHd3UdOC52ZCwvyuMkzYJDY0GF3Vtt8gz2swgYrwRD3j6VMonbcacoXcEAAAAiQZ5bRTRM\n",
              "M/8Ao5suZOG414df/AAtp9BD9jF0TOhN8aYW0AAAABcBnnp0Qv8AAjp3KwgAP2jWdOUzdiAXcQAA\n",
              "ABcBnnxqQv8AAjtDpwAmXhO/9iL2dzcEnQAAAGxBmn5JqEFomUwIf//+qZYAAd07G4BMVCV04DYW\n",
              "HnaiMrERTgqW2OsaQ6UEx3T3nTGMnFL5zyn/f5l9OiiixtbXC7xOFA9hGiDNAqn1Of4NKO/YeypC\n",
              "1kSo+vKMdu6/tDD47wQ+SmZL2DpAHdAAAAB+QZqCSeEKUmUwIf/+qZYABCE8d8wGb8iV30NJTocr\n",
              "IErCo7bwbSNsBuZjImfxS9jSSQ85u/2q1xcH9HDCMhvUuf0t/Fd/qPdOiqm9D7tnpiFJ1MlvY/Dj\n",
              "F2Ahp+Z5LmM2iqv1qqR/BqB3Tlm9DDyGmON+4CXo8eX44D8i4hAwAAAAJUGeoEU0TDP/AKObLmaQ\n",
              "gJtAyKU+V6KCIqXcG0At5oxREPY+ELEAAAAdAZ7fdEL/AAT6zB6Oryv0WAACMCaTvv8DQd7PAXsA\n",
              "AAAgAZ7BakL/AAT6tw/fAmKbYAWMgrkeG338thu81iSgesEAAABwQZrGSahBaJlMCH///qmWAAQi\n",
              "PyXLbMXIOAQj5ErvwDx/vb8cEzTa+/dsxJrWxLpE4krbp9xEFthzniqN9EMG7ZeqdlgjD8ZPHK9J\n",
              "1oXfsi5ebgGaX9yqP6CIdKjDNprByxzoJdiAhitF2O30sUUFTAAAABhBnuRFESwz/wCjmy5mjo6S\n",
              "kdmVa2XQ9YEAAAAUAZ8DdEL/AATw0x80AVvnB06/gQcAAAAdAZ8FakL/AATodrlgBXKq5eXiHZSQ\n",
              "BHCtF0FQPuEAAAB3QZsJSahBbJlMCH///qmWAAQhA/4BBDK0vsKb+uyyrV77LiInO+TynSvG28WA\n",
              "fyI2IVOJ5IIn0TEUeWbwDhU7WyzyxZb0+LLbviSP6ym85LZQBVcWi8L4001sG6asbcPRmvFGYToQ\n",
              "xCBPq4/oMywhIZ3RurZEB80AAAAdQZ8nRRUsM/8Ao5suZo5czjAAnbxhdgi/NI76C0gAAAAXAZ9I\n",
              "akL/AAT5gqKcuoAnF3nQxFZUD7gAAAB3QZtNSahBbJlMCH///qmWAAlEhDsNAXmAQEiKljSMSOGY\n",
              "QhYf+wF3HJQ0Rsmh60NhVVJ7u4bbAbgPbCItWQ3KTHSW6cRdGtKCD5ANZjth5Q4aSoihM2zI8MjY\n",
              "gkC0VC6vVS/pFiYzBtY8fL9rwGf7adCtEomiIOEAAAAeQZ9rRRUsM/8Ao5suaj4aTF5h00W4AT2w\n",
              "pt6oDcG9AAAAJAGfinRC/wALEXcTQBEccRU6e/eauqPSCr2Y5dwZu7TKh2UBvwAAABoBn4xqQv8A\n",
              "CxNizgAuMVJvWCMIacDVNwDugQAAADZBm49JqEFsmUwUTD///qmWAAlE+ilvxcAXxzEK6Bb79aVv\n",
              "ciQLGIiQjGn8QN9XNHnP/ohAPSEAAAAaAZ+uakL/AAsOdvSwAtt8Ip9ck+ms3jcA7oEAAAC8QZuy\n",
              "SeEKUmUwIf/+qZYACU1fzhC7H1AASdpN/0V4QuKUe3l1C5/IkMsoLftOO6G9hdv0BDw5W8M5Tj/+\n",
              "KzwABWbLEMrpCATWB0+sluNycKg1jrQH/mG1tqRuP6xxZsMxOt0KifuHTOTM+eitgsGXlt3EI+IH\n",
              "JIQ7g8IhrDfJaXOU9xrxhriYIhjdJUMfYfWPkPXWLeTjlYoKdqwefNFo5V388xEWTf0mS157VCz8\n",
              "0YlPvdP6bnW8R2syB4QAAAAnQZ/QRTRMM/8Ao5suajvEUrABsMPngKuy4H+QxNYFy0XkhPdRoO6A\n",
              "AAAAHwGf8WpC/wAZINDBIWFqAYGoALi5x0K4QCfVp/poFfEAAACJQZv2SahBaJlMCH///qmWAAkP\n",
              "K/8Jk43AG4RCDoDKBcoCuU0loUAd9sBuZj8n/TMD1/tkNopmC+RI6Wmh6F+5RgfX34mwSdNicM+b\n",
              "VJDxa1kkvk17QtNiUo2Ws7LnUXBqxYFN2IH6/a+PL/pxXPlaf2Pt5WdfQFdYPn3oVHGF3FPe6U+r\n",
              "oe8Ab0AAAAAvQZ4URREsM/8Ao5suahjqIzPGHqTOgBWu4qR1DpvcvKtw/dbd+qx2AaEg8j1uKmAA\n",
              "AAAWAZ4zdEL/AAS0WBpHADh3nXTCWonBWwAAABwBnjVqQv8ACs5F6rNsALVMlfRUoqiKYTT66DCg\n",
              "AAAAe0GaOkmoQWyZTAh///6plgAJAEZ4SEAV9ABNfjYskDuDZ7YoTQeeTQDHb8EQLOAQRIIS6OZp\n",
              "ljdE+5LQvzrTneB2usJIZiWRVw28c8me+iiJZKJZjQhwV/W7Ooog4NTzCg/3S7mT21rtZ7L/xjO1\n",
              "lNXHkEu7apShelAb0QAAABpBnlhFFSwz/wCjmy5qEFUyZ7DJpyulgVgS8QAAAA8Bnnd0Qv8ACqh3\n",
              "MSKgE3AAAAAZAZ55akL/AArNC5AAlkZ4EmI9pngc8KAE3QAAAG5Bmn5JqEFsmUwIf//+qZYACQIH\n",
              "/AIR8iV1Ak20BNQ1glGViL/LI+ZeyeErfJ7q0oohmuQEyAu8o8fBgG2bXixVom0HAPnJuon/IO/z\n",
              "7uH4dOF67TDR+qaWgPfc4IyMP/VWrCJiKnPqVvJLOAgIuAAAABVBnpxFFSwz/wCjmy5qF5R5zVzV\n",
              "AZ8AAAAeAZ67dEL/AArCae7gBa3CBm/vDOekOQsEasczQCLhAAAAGwGevWpC/wAKfapyYdgA4qLL\n",
              "liv/1W1Q3G4B8wAAAKRBmqJJqEFsmUwIf//+qZYAFArt83B1S9ABNfj/luJhh+RI2hmeoLLTJ1I3\n",
              "k02wPi3tpAF0M/M07sntrM4DjEVGZCGrxsosTQAVKO3KGiiECpcoTANE1vIE+a10hk4r5LHawJuv\n",
              "/8CT0FFiWlwb1NS7ma5KEOVvzGGtyLn7nd5X/+11DStgekK+nYZT/HjNbmQ41JBhvtw1lXyrMKfk\n",
              "qAK/gzpC7gAAACpBnsBFFSwz/wCjmy5yAQfGRkFgC/0D7wIyL51fGpt6Xa0VY/VpSMjsBD0AAAAY\n",
              "AZ7/dEL/ABfmyz7B0AF1HrhQ4hlpKAaEAAAAEAGe4WpC/wAXlGaYx6S3A6sAAABaQZrlSahBbJlM\n",
              "CH///qmWABQWHF594ACa+q4xiYUP/Ze1UqlSrRuKavDavdBmZllzgIUwxjjW0M5c758oic3xSS3h\n",
              "ORx19KlAWltgCXytNE+wUdZRJemHSArYAAAAIkGfA0UVLDP/AKObLnH4gRhbGugBrL7UGMEQ9RJv\n",
              "XyHGD1kAAAAhAZ8kakL/ABePrJwsALeNpLLjU7Et0U8nZXgOZnvnANmBAAAA3kGbKUmoQWyZTAh/\n",
              "//6plgAs3C39pmzjQGSoSu55LeppGIYCMTlZ5pOWwlJw2mhKMbjfDFUhKtWDFGwxiKreqPo7FPCa\n",
              "FCnnX9U1z26bCKaTwHKYm4jOWx8Aopvegcz+uO0yxOZB+ZltC6vxAqMhRfU6WOPKTZKAhuReNBmt\n",
              "ikneu3zTgWl+nryFP2hSNIcTleQC0UtCJYXqRPn3puNkMTSdb/Q1VIFOHBK7ORvSzH0zw1x3w53H\n",
              "jhkThIZ0oiegvvlLI8j7ChNDFuztJk71NtkFVm6ufXyJOTK2TnfIeQAAAC5Bn0dFFSwz/wCjmy6D\n",
              "QwO1r5QcnzBwA/Ojhm1wPXhfrvp01Ix5g8G1DJ8+B5EjAAAAHAGfZnRC/wA0zZqOVuphW8AQiXgB\n",
              "Zq49vmUALKAAAAAmAZ9oakL/ADTFIM0ARIlWPUaBmMuB2gzCOcCtpxIwTzSfjoVbAmYAAABXQZtr\n",
              "SahBbJlMFEw///6plgATlo/F2Ztp4A82DvjToKpFFU1rH7yTfvkILKSLrYcIK+YEvL30mNmH9kTf\n",
              "a/vhbT4LIllH71mOCL54scWRG532RhO6qQFlAAAAGgGfimpC/wAKNnnk+wwAtcVJty0TGv/euYV8\n",
              "AAAAhkGbj0nhClJlMCHf/qmWABOBOf0NJvinALXc/EZrkPv6EfhgJBOrkoZkND59NvMabRN1kgjg\n",
              "VmVjZkq9/s9mXaTbZDzXyhD1j5QAHEy0V4NO3FmZuH0e0gxD4XbN1+Lg6Td0nXyEpWlcNXDyq/VN\n",
              "0/SfxNzxqWoisPdofaeAB8KVr6OQAM+AAAAAJEGfrUU0TDP/AKObLnGggRhbGugBIyrfDd808ISI\n",
              "LiCz+jpCJwAAABwBn8x0Qv8AF1S7gBLZa30FLb/2ovUQCn5e4YIvAAAAHwGfzmpC/wAXLqvdwAmX\n",
              "FV5h5IO6OFzK0cUBu0IOD5kAAABeQZvRSahBaJlMFPDv/qmWABODXygDYzDyzRPcI216wA801xBp\n",
              "T7nvJG4m5u2yey49VG1/LcNgiQ0pCT1aoJI8qK/V8hsXYC0bc3pn+4Srl1enDOtMhNdN+N8yNb4K\n",
              "2AAAAB0Bn/BqQv8AF0YHJB3T6gBFql6UdpPfuD0lH2wd0AAAAEtBm/NJ4QpSZTBSw7/+qZYAEv+e\n",
              "9AR58rqATwXDZfGUJ37fep+03P/06YTwhzUMXn5kajIwqI594eudN8LDl34X0hNcZLeJEbsAe0EA\n",
              "AAAbAZ4SakL/ABa3bdsALeKlr99ll8LfqgfeuYV8AAAAU0GaFEnhDomUwId//qmWACt6Es17hgP6\n",
              "1vu+qOVQAd1NvamIc5chaSd2Cr8fez6zElkq0Ks2Xi682c/6Tz4ThUNtZ+y+kBJL8A1ELXWmSfif\n",
              "0ANmAAAANEGaNUnhDyZTAh///qmWACt9gTALVR5YvjN+/lSY9HJHb3ISwPXppYtsa2rmGywiIiKg\n",
              "Bs0AAABlQZpZSeEPJlMCH//+qZYAK3Xb5Q9KtgAHMuyvMvGG+lmxGqwtLok12XA+tRrg68ZFr+eQ\n",
              "WE2OKQHjBLdmEI4Y097CApvajsK2x0BhR5Z+9jleB03SkD4mKha/hLzdYBFuv/qUAXcAAAAsQZ53\n",
              "RRE8M/8Ao5sugoNbgc495ACDJZnFJGALQGUKnsv4/3z0EkoLd/SNg7sAAAAgAZ6WdEL/ADN+grAC\n",
              "prMYQlQN9J5eNjwFLIkQJ+2cJuEAAAAhAZ6YakL/ADODWwAEtV4sdnMP7hOLsqnGn6gwL7WnUwRc\n",
              "AAAAdkGanUmoQWiZTAh3//6plgBgs5//9DZCYAbog0YdLK8YtLD/dKB87xPACsHBQGCXZieY5a7o\n",
              "2xe5CRRMtHo3XCp969hZ6GijknwQAAO3oX++zJRm/QcNtzF9pp6J8zXEWChPNt1wnhe9Oi07HtXd\n",
              "GR92QNxQBQUAAAAkQZ67RREsM/8Ao5suvhhNyL4VlhGzoANRvBvVQQK1smpkwkHHAAAAHwGe2nRC\n",
              "/wAzfedzIdACHQcjWOg3gvDS8Er/HhQYIuEAAAAbAZ7cakL/AHEtuzgAnWpalBlhCW9AQa3G2CLh\n",
              "AAAAZ0Ga30moQWyZTBRMO//+qZYAYLOf+Z2PneAL/c6+RC2cMt3pfyt0EiesrN0Lle41RRJVggP9\n",
              "PHqR//TRBghO3rBOvyYjoVumnsP+Q+Ec+VSHS/WEmmd24lh9ae5VPi7Uc/3qO3YAMeAAAAATAZ7+\n",
              "akL/AG+/FZ0CxV2/W6AbMAAAADxBmuBJ4QpSZTAh3/6plgBgE2QYuwAVOi+5DNJt/2DoP0smnDNu\n",
              "83Gm9pNx//tdxkZKQ9lX9v2Hf3YAMeEAAACoQZsBSeEOiZTAh3/+qZYAYCXxiAMtMN/Qjndx0ayp\n",
              "ul6e/7WTK24CSR32OFKwCSf/+VG+nwAeRk3GRrmy2R831lKYepPHs/RgvK6O0JNnFf48WF+PGN/+\n",
              "qkIZM9Ifp4Eaqsz7JBEuZ0QuwP8sGsr40fftDlVCjWQ/yCTty3zpD9GGtLXADfVY1AuKWSWxRXim\n",
              "Fq7W8b8ZJnu/5QnIkS38YBvRxdxbAAaEAAAAU0GbI0nhDyZTBRE8P//+qZYAKl2f8ARs0pE8rKn/\n",
              "iOwGHWTIB/8zDIf1X8tOLVMFF9OShJhm/pgVbOjOuyvp8BcCePvIS0H7Hwm1Ts7WH6becAVNAAAA\n",
              "IwGfQmpC/wD+85ij1J2INYATLh+kPUpGvAWkGt9kfr/1/IkYAAAANUGbRUnhDyZTBTw///6plgAq\n",
              "XU1QAiwX+6TAFiuX2V6NJNBrkIM7gSEus5Lb7A2Xx8cBADuhAAAAIQGfZGpC/wAyQXEJ2m0l1AER\n",
              "yERZy/FvANRUzN2/qW4q4QAAAGRBm2hJ4Q8mUwIf//6plgBduwJgA/pD69Y51JwmnDpJmtQEGxaa\n",
              "LoyZCox4aiybmOATE8eD1z0VvIASQ+ke5jkBPN8NKnQ/Q/k9ugjE4W6aV2tQ27X6MaKYfLvDPZoZ\n",
              "XsXjKAFbAAAAMUGfhkURPDP/AKObLriYS5xCgptAC1xZWZt9hjHuD84joV/VjGKy2OMlfrih3pNQ\n",
              "wIEAAAAlAZ+nakL/AG6iLNWlfGwALify5KNk2L22SOVNOcjQTRF4y+OCLgAAAFRBm6xJqEFomUwI\n",
              "d//+qZYAXak1NY7FrUAFyhequLNenAc8M88DahWxAqdD1grSgKHGusDNTLKleltlWosS9VPJgTU9\n",
              "oqidCCkOeJX2/26Y8iegAyoAAAAkQZ/KRREsM/8Ao5sutaPhPK/zAAtwenUCBcqF2QD8dhE9dCkh\n",
              "AAAAHAGf6XRC/wBumyr8FgATGhcABpvKb2vyuYywd0AAAAAZAZ/rakL/AG7JjABOOHq63I0q5fKg\n",
              "FgCkgAAAAEpBm+9JqEFsmUwIZ//+nhAC043HAC0hw6eTCPFFqz12swUeyKyP2d+QZHnlr8Dj69tz\n",
              "gfb4lanegdzLMphfwerjci4L4ggymACHgQAAABZBng1FFSwz/wCjmy64Y1Pdd6g6jDjhAAAAGQGe\n",
              "LmpC/wBsBl0QAlo0aRQt7S0I9LAZhX0AAAAuQZowSahBbJlMCF///oywAsmvOsAE6ypyz98rlHid\n",
              "LLTafZNK7JS+b//m2AB0wAAADiNtb292AAAAbG12aGQAAAAAAAAAAAAAAAAAAAPoAAA4fAABAAAB\n",
              "AAAAAAAAAAAAAAAAAQAAAAAAAAAAAAAAAAAAAAEAAAAAAAAAAAAAAAAAAEAAAAAAAAAAAAAAAAAA\n",
              "AAAAAAAAAAAAAAAAAAAAAAACAAANTXRyYWsAAABcdGtoZAAAAAMAAAAAAAAAAAAAAAEAAAAAAAA4\n",
              "fAAAAAAAAAAAAAAAAAAAAAAAAQAAAAAAAAAAAAAAAAAAAAEAAAAAAAAAAAAAAAAAAEAAAAAB+AAA\n",
              "ASAAAAAAACRlZHRzAAAAHGVsc3QAAAAAAAAAAQAAOHwAAAYAAAEAAAAADMVtZGlhAAAAIG1kaGQA\n",
              "AAAAAAAAAAAAAAAAADIAAALTAFXEAAAAAAAtaGRscgAAAAAAAAAAdmlkZQAAAAAAAAAAAAAAAFZp\n",
              "ZGVvSGFuZGxlcgAAAAxwbWluZgAAABR2bWhkAAAAAQAAAAAAAAAAAAAAJGRpbmYAAAAcZHJlZgAA\n",
              "AAAAAAABAAAADHVybCAAAAABAAAMMHN0YmwAAAC0c3RzZAAAAAAAAAABAAAApGF2YzEAAAAAAAAA\n",
              "AQAAAAAAAAAAAAAAAAAAAAAB+AEgAEgAAABIAAAAAAAAAAEAAAAAAAAAAAAAAAAAAAAAAAAAAAAA\n",
              "AAAAAAAAAAAAAAAY//8AAAAyYXZjQwFkABX/4QAZZ2QAFazZQIAl5eEAAAMAAwAAAwBkDxYtlgEA\n",
              "Bmjr48siwAAAABx1dWlka2hA8l8kT8W6OaUbzwMj8wAAAAAAAAAYc3R0cwAAAAAAAAABAAAA8QAA\n",
              "AwAAAAAUc3RzcwAAAAAAAAABAAAAAQAAB0BjdHRzAAAAAAAAAOYAAAABAAAGAAAAAAEAAA8AAAAA\n",
              "AQAABgAAAAABAAAAAAAAAAEAAAMAAAAAAQAADwAAAAABAAAGAAAAAAEAAAAAAAAAAQAAAwAAAAAB\n",
              "AAAPAAAAAAEAAAYAAAAAAQAAAAAAAAABAAADAAAAAAEAAA8AAAAAAQAABgAAAAABAAAAAAAAAAEA\n",
              "AAMAAAAAAQAADwAAAAABAAAGAAAAAAEAAAAAAAAAAQAAAwAAAAABAAAPAAAAAAEAAAYAAAAAAQAA\n",
              "AAAAAAABAAADAAAAAAEAAA8AAAAAAQAABgAAAAABAAAAAAAAAAEAAAMAAAAAAQAADAAAAAACAAAD\n",
              "AAAAAAEAAA8AAAAAAQAABgAAAAABAAAAAAAAAAEAAAMAAAAAAQAABgAAAAABAAAPAAAAAAEAAAYA\n",
              "AAAAAQAAAAAAAAABAAADAAAAAAEAAA8AAAAAAQAABgAAAAABAAAAAAAAAAEAAAMAAAAAAQAADAAA\n",
              "AAACAAADAAAAAAEAAA8AAAAAAQAABgAAAAABAAAAAAAAAAEAAAMAAAAAAQAADwAAAAABAAAGAAAA\n",
              "AAEAAAAAAAAAAQAAAwAAAAABAAAGAAAAAAEAAAwAAAAAAgAAAwAAAAABAAAPAAAAAAEAAAYAAAAA\n",
              "AQAAAAAAAAABAAADAAAAAAEAAAkAAAAAAQAAAwAAAAABAAAJAAAAAAEAAAMAAAAAAQAACQAAAAAB\n",
              "AAADAAAAAAEAAA8AAAAAAQAABgAAAAABAAAAAAAAAAEAAAMAAAAAAQAACQAAAAABAAADAAAAAAEA\n",
              "AA8AAAAAAQAABgAAAAABAAAAAAAAAAEAAAMAAAAAAQAADwAAAAABAAAGAAAAAAEAAAAAAAAAAQAA\n",
              "AwAAAAABAAAJAAAAAAEAAAMAAAAAAQAADwAAAAABAAAGAAAAAAEAAAAAAAAAAQAAAwAAAAABAAAJ\n",
              "AAAAAAEAAAMAAAAAAQAACQAAAAABAAADAAAAAAEAAA8AAAAAAQAABgAAAAABAAAAAAAAAAEAAAMA\n",
              "AAAAAQAACQAAAAABAAADAAAAAAEAAAwAAAAAAgAAAwAAAAABAAAJAAAAAAEAAAMAAAAAAQAABgAA\n",
              "AAABAAAJAAAAAAEAAAMAAAAAAQAACQAAAAABAAADAAAAAAEAAA8AAAAAAQAABgAAAAABAAAAAAAA\n",
              "AAEAAAMAAAAAAQAADwAAAAABAAAGAAAAAAEAAAAAAAAAAQAAAwAAAAABAAAJAAAAAAEAAAMAAAAA\n",
              "AQAADwAAAAABAAAGAAAAAAEAAAAAAAAAAQAAAwAAAAABAAAPAAAAAAEAAAYAAAAAAQAAAAAAAAAB\n",
              "AAADAAAAAAEAAA8AAAAAAQAABgAAAAABAAAAAAAAAAEAAAMAAAAAAQAACQAAAAABAAADAAAAAAEA\n",
              "AA8AAAAAAQAABgAAAAABAAAAAAAAAAEAAAMAAAAAAQAADwAAAAABAAAGAAAAAAEAAAAAAAAAAQAA\n",
              "AwAAAAABAAAPAAAAAAEAAAYAAAAAAQAAAAAAAAABAAADAAAAAAEAAAkAAAAAAQAAAwAAAAABAAAP\n",
              "AAAAAAEAAAYAAAAAAQAAAAAAAAABAAADAAAAAAEAAAkAAAAAAQAAAwAAAAABAAAPAAAAAAEAAAYA\n",
              "AAAAAQAAAAAAAAABAAADAAAAAAEAAAYAAAAAAQAADwAAAAABAAAGAAAAAAEAAAAAAAAAAQAAAwAA\n",
              "AAABAAAPAAAAAAEAAAYAAAAAAQAAAAAAAAABAAADAAAAAAEAAAwAAAAAAgAAAwAAAAABAAAPAAAA\n",
              "AAEAAAYAAAAAAQAAAAAAAAABAAADAAAAAAEAAAkAAAAAAQAAAwAAAAABAAAMAAAAAAIAAAMAAAAA\n",
              "AQAADwAAAAABAAAGAAAAAAEAAAAAAAAAAQAAAwAAAAABAAAPAAAAAAEAAAYAAAAAAQAAAAAAAAAB\n",
              "AAADAAAAAAEAAA8AAAAAAQAABgAAAAABAAAAAAAAAAEAAAMAAAAAAQAADwAAAAABAAAGAAAAAAEA\n",
              "AAAAAAAAAQAAAwAAAAABAAAMAAAAAAIAAAMAAAAAAQAADwAAAAABAAAGAAAAAAEAAAAAAAAAAQAA\n",
              "AwAAAAABAAAJAAAAAAEAAAMAAAAAAQAADwAAAAABAAAGAAAAAAEAAAAAAAAAAQAAAwAAAAABAAAJ\n",
              "AAAAAAEAAAMAAAAAAQAACQAAAAABAAADAAAAAAIAAAYAAAAAAQAADwAAAAABAAAGAAAAAAEAAAAA\n",
              "AAAAAQAAAwAAAAABAAAPAAAAAAEAAAYAAAAAAQAAAAAAAAABAAADAAAAAAEAAAkAAAAAAQAAAwAA\n",
              "AAACAAAGAAAAAAEAAAkAAAAAAQAAAwAAAAABAAAJAAAAAAEAAAMAAAAAAQAADAAAAAACAAADAAAA\n",
              "AAEAAA8AAAAAAQAABgAAAAABAAAAAAAAAAEAAAMAAAAAAQAADAAAAAACAAADAAAAAAEAAAYAAAAA\n",
              "HHN0c2MAAAAAAAAAAQAAAAEAAADxAAAAAQAAA9hzdHN6AAAAAAAAAAAAAADxAAAUNwAAAXUAAABP\n",
              "AAAAPwAAADQAAACKAAAARAAAADoAAAAwAAAAewAAACsAAAArAAAAIAAAAH4AAAA6AAAAKwAAACIA\n",
              "AAB8AAAALAAAACUAAAAkAAAAigAAACwAAAAaAAAALgAAAH4AAAAiAAAAIgAAACIAAACBAAAAKwAA\n",
              "ABkAAACAAAAANAAAACQAAAAhAAAAXAAAAKgAAAAzAAAAIQAAACsAAABkAAAAKgAAACUAAAAiAAAA\n",
              "UQAAACcAAAAjAAAAiQAAADYAAAAmAAAAGgAAAHMAAAAfAAAAIwAAABwAAABDAAAAjwAAAC4AAAAh\n",
              "AAAAhAAAACEAAAAhAAAAJwAAAEwAAAAgAAAAOAAAAB4AAABUAAAAHwAAAIgAAAAkAAAAGAAAAB8A\n",
              "AABfAAAAHQAAAFUAAAAbAAAAHwAAAB8AAAC/AAAAJwAAABgAAAAbAAAAYgAAACEAAABgAAAAGgAA\n",
              "ABwAAAAeAAAAUAAAACIAAABzAAAAHQAAAGYAAAAgAAAAIwAAAB0AAABLAAAAIAAAAIUAAAAlAAAA\n",
              "IQAAAFQAAAAdAAAAswAAAGcAAAAcAAAAXgAAACEAAACRAAAAKgAAACYAAAAoAAAAhwAAABwAAAAV\n",
              "AAAAIQAAAFMAAAAjAAAAcQAAACkAAAAlAAAAHwAAAIYAAAAkAAAAFgAAAB8AAADOAAAAIQAAACAA\n",
              "AAAcAAAAZgAAACIAAACaAAAAIwAAAB8AAAAlAAAAiAAAACMAAAAmAAAAIAAAAIYAAAAhAAAAHAAA\n",
              "AB0AAABXAAAAIQAAALcAAAAuAAAAIQAAACgAAACPAAAAJgAAAJQAAAAmAAAAGwAAABsAAABwAAAA\n",
              "ggAAACkAAAAhAAAAJAAAAHQAAAAcAAAAGAAAACEAAAB7AAAAIQAAABsAAAB7AAAAIgAAACgAAAAe\n",
              "AAAAOgAAAB4AAADAAAAAKwAAACMAAACNAAAAMwAAABoAAAAgAAAAfwAAAB4AAAATAAAAHQAAAHIA\n",
              "AAAZAAAAIgAAAB8AAACoAAAALgAAABwAAAAUAAAAXgAAACYAAAAlAAAA4gAAADIAAAAgAAAAKgAA\n",
              "AFsAAAAeAAAAigAAACgAAAAgAAAAIwAAAGIAAAAhAAAATwAAAB8AAABXAAAAOAAAAGkAAAAwAAAA\n",
              "JAAAACUAAAB6AAAAKAAAACMAAAAfAAAAawAAABcAAABAAAAArAAAAFcAAAAnAAAAOQAAACUAAABo\n",
              "AAAANQAAACkAAABYAAAAKAAAACAAAAAdAAAATgAAABoAAAAdAAAAMgAAABRzdGNvAAAAAAAAAAEA\n",
              "AAAsAAAAYnVkdGEAAABabWV0YQAAAAAAAAAhaGRscgAAAAAAAAAAbWRpcmFwcGwAAAAAAAAAAAAA\n",
              "AAAtaWxzdAAAACWpdG9vAAAAHWRhdGEAAAABAAAAAExhdmY1Ny44My4xMDA=\n",
              "\">\n",
              "  Your browser does not support the video tag.\n",
              "</video>"
            ]
          },
          "metadata": {
            "tags": []
          }
        }
      ],
      "metadata": {
        "colab": {
          "base_uri": "https://localhost:8080/",
          "height": 309
        },
        "id": "pGG65xBZ5lZu",
        "outputId": "ba47776d-5955-4767-d7c3-73f3b76771de"
      }
    },
    {
      "cell_type": "markdown",
      "source": [
        "## Długoletnie prognozy."
      ],
      "metadata": {
        "id": "qdsOmp3FS5ra"
      }
    },
    {
      "cell_type": "markdown",
      "source": [
        "Będziemy symulować długoletni proces ryzyka dla ustalonych poniżej parametrów."
      ],
      "metadata": {
        "id": "BbDv2rxMr9dJ"
      }
    },
    {
      "cell_type": "code",
      "execution_count": 137,
      "source": [
        "c_OC = 80\n",
        "c_AC = 60\n",
        "k0 = 1000\n",
        "n = 100\n",
        "m = 100"
      ],
      "outputs": [],
      "metadata": {
        "id": "dMfGjNw6rkEG"
      }
    },
    {
      "cell_type": "markdown",
      "source": [
        "Dla czasu równego 60 lat."
      ],
      "metadata": {
        "id": "zuunQQkrsPhP"
      }
    },
    {
      "cell_type": "code",
      "execution_count": 142,
      "source": [
        "draw_plot2(1, 720, k0, n, m, c_AC, c_OC)"
      ],
      "outputs": [
        {
          "output_type": "display_data",
          "data": {
            "text/plain": [
              "<Figure size 432x288 with 1 Axes>"
            ],
            "image/png": "[encoded data removed]"
          },
          "metadata": {
            "tags": [],
            "needs_background": "light"
          }
        }
      ],
      "metadata": {
        "id": "HGBOEPnHBOIJ",
        "colab": {
          "base_uri": "https://localhost:8080/",
          "height": 295
        },
        "outputId": "13d66cad-a7c8-4f08-ff44-8a7c249702ad"
      }
    },
    {
      "cell_type": "markdown",
      "source": [
        "Dla czasu równego 100 lat."
      ],
      "metadata": {
        "id": "EA1j-jc_sUxM"
      }
    },
    {
      "cell_type": "code",
      "execution_count": 140,
      "source": [
        "draw_plot2(1, 1200, k0, n, m, c_AC, c_OC)"
      ],
      "outputs": [
        {
          "output_type": "display_data",
          "data": {
            "text/plain": [
              "<Figure size 432x288 with 1 Axes>"
            ],
            "image/png": "[encoded data removed]"
          },
          "metadata": {
            "tags": [],
            "needs_background": "light"
          }
        }
      ],
      "metadata": {
        "colab": {
          "base_uri": "https://localhost:8080/",
          "height": 295
        },
        "id": "QZs777OysXNb",
        "outputId": "869c8050-db6a-4dbf-a8fb-f6c98037f20c"
      }
    },
    {
      "cell_type": "markdown",
      "source": [
        "Dla czasu równego 500 lat."
      ],
      "metadata": {
        "id": "MeByCEpNskzk"
      }
    },
    {
      "cell_type": "code",
      "execution_count": 141,
      "source": [
        "draw_plot2(1, 6000, k0, n, m, c_AC, c_OC)"
      ],
      "outputs": [
        {
          "output_type": "display_data",
          "data": {
            "text/plain": [
              "<Figure size 432x288 with 1 Axes>"
            ],
            "image/png": "[encoded data removed]"
          },
          "metadata": {
            "tags": [],
            "needs_background": "light"
          }
        }
      ],
      "metadata": {
        "colab": {
          "base_uri": "https://localhost:8080/",
          "height": 295
        },
        "id": "ra6vvzxtsaEv",
        "outputId": "cf819eb3-1858-49d2-cbe3-b6d0ec6da204"
      }
    },
    {
      "cell_type": "markdown",
      "source": [
        "### Wnioski:\n",
        "Przeprowadzając symulację dla dłuższego okresu czasu, możemy zobaczyć, że nasz maksymalny kapitał jest ograniczony do około $2 \\cdot 10^6$ zł.<br>\n",
        "Po około 60 latach funkcjonowania nasza firma osiągnie ten kapitał i będzie wokół niego oscylować przez nastepne lata. Do tego czasu widzimy, że firma rozwija się w bardzo szybkim tempie."
      ],
      "metadata": {
        "id": "WhMNzBLDswzF"
      }
    },
    {
      "cell_type": "markdown",
      "source": [
        "## Źródła\n",
        "\n",
        "  1. [wypadki drogowe w 2020](https://statystyka.policja.pl/st/ruch-drogowy/76562,wypadki-drogowe-raporty-roczne.html)"
      ],
      "metadata": {
        "id": "iFE1RDmLv8N-"
      }
    }
  ]
}